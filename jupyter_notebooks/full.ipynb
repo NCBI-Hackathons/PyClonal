{
 "cells": [
  {
   "cell_type": "code",
   "execution_count": 1,
   "metadata": {},
   "outputs": [
    {
     "data": {
      "text/html": [
       "<script>requirejs.config({paths: { 'plotly': ['https://cdn.plot.ly/plotly-latest.min']},});if(!window.Plotly) {{require(['plotly'],function(plotly) {window.Plotly=plotly;});}}</script>"
      ],
      "text/vnd.plotly.v1+html": [
       "<script>requirejs.config({paths: { 'plotly': ['https://cdn.plot.ly/plotly-latest.min']},});if(!window.Plotly) {{require(['plotly'],function(plotly) {window.Plotly=plotly;});}}</script>"
      ]
     },
     "metadata": {},
     "output_type": "display_data"
    }
   ],
   "source": [
    "from plotly.offline import init_notebook_mode, iplot\n",
    "import plotly.plotly as py\n",
    "import plotly.graph_objs as go\n",
    "init_notebook_mode(connected=True)\n",
    "\n",
    "from scipy.spatial.distance import cosine, jaccard\n",
    "\n",
    "import pandas as pd\n",
    "import numpy as np"
   ]
  },
  {
   "cell_type": "code",
   "execution_count": 2,
   "metadata": {
    "collapsed": true
   },
   "outputs": [],
   "source": [
    "basepath = \"/Users/avisrivastava/Desktop/PyClonal/sample_input_files/\"\n",
    "files = [\"D233.changeo.tsv\", \"D255.changeo.tsv\", \"D280.changeo.tsv\", \"D287.changeo.tsv\", \"D299.changeo.tsv\" ]\n",
    "\n",
    "# change these header based on the data type \n",
    "# below format for changeo\n",
    "COUNTS_HEADER = \"DUPCOUNT\"\n",
    "SEQ_HEADER = \"CLONE_CDR3_AA\"\n",
    "SAMPLE_HEADER = \"SAMPLE\""
   ]
  },
  {
   "cell_type": "code",
   "execution_count": 3,
   "metadata": {},
   "outputs": [],
   "source": [
    "# =======================================================\n",
    "# Avoid changes below this\n",
    "# =======================================================\n",
    "\n",
    "def get_df(df, feature, token, index):\n",
    "    new_df = df[ df[feature] == token ]\n",
    "    del new_df[feature]\n",
    "    new_df = new_df.groupby(index).sum()\n",
    "    \n",
    "    return new_df\n",
    "\n",
    "for filename in files:\n",
    "    filepath = basepath + filename\n",
    "    \n",
    "    # extract relevant data only\n",
    "    df = pd.read_table(filepath, sep=\"\\t\").loc[:, [ COUNTS_HEADER, SEQ_HEADER, SAMPLE_HEADER]]\n",
    "    \n",
    "    # group by sum and melting the data frame\n",
    "    gp = df.groupby([ SAMPLE_HEADER, SEQ_HEADER]).sum().reset_index()\n",
    "    \n",
    "    # extracting unique file related metadata\n",
    "    seqs = set(gp[SEQ_HEADER].values)\n",
    "    samples = set(gp[SAMPLE_HEADER].values)\n",
    "    \n",
    "    # make a dictionary with the sequence indices\n",
    "    seq_indices = {}\n",
    "    for index, seq in enumerate(seqs):\n",
    "        seq_indices[index] = seq\n",
    "    \n",
    "    # making relevant dataframe for meta data\n",
    "    sample_meta_data = {}\n",
    "    for sample in samples:\n",
    "        toks = sample.strip().split(\"-\")\n",
    "        meta_data = {}\n",
    "\n",
    "        meta_data['patient_id'] = toks[0]\n",
    "        meta_data['tissue_id'] = toks[1]\n",
    "        meta_data['protein'] = toks[2]\n",
    "        meta_data['cell_type'] = toks[3]\n",
    "        meta_data['replicate'] = toks[4]\n",
    "        meta_data['extras'] = toks[5:]\n",
    "\n",
    "        sample_meta_data[sample] = meta_data\n",
    "    \n",
    "    # No aggregate step for now\n",
    "    distances = {'cosine': [], 'jaccard': []}\n",
    "    for sample1 in list(samples):\n",
    "        for sample2 in list(samples):\n",
    "            \n",
    "            if sample1 == sample2:\n",
    "                distances['cosine'].append(0.0)\n",
    "                distances['jaccard'].append(1.0)\n",
    "                continue\n",
    "            \n",
    "            ct = pd.concat([ get_df(df, SAMPLE_HEADER, sample1, SEQ_HEADER),\n",
    "                             get_df(df, SAMPLE_HEADER, sample2, SEQ_HEADER)], axis=1 ).fillna(0)\n",
    "            ct.columns = [sample1, sample2]\n",
    "\n",
    "            dist = cosine(ct[sample1].values, ct[sample2].values)\n",
    "            distances['cosine'].append(dist)\n",
    "            \n",
    "            dist = jaccard(ct[sample1].values, ct[sample2].values)\n",
    "            distances['jaccard'].append(dist)\n",
    "    \n",
    "    # currently perfroming for one file\n",
    "    # can be easily extended to all\n",
    "    break"
   ]
  },
  {
   "cell_type": "code",
   "execution_count": null,
   "metadata": {},
   "outputs": [],
   "source": []
  },
  {
   "cell_type": "code",
   "execution_count": 4,
   "metadata": {},
   "outputs": [
    {
     "data": {
      "application/vnd.plotly.v1+json": {
       "data": [
        {
         "type": "heatmap",
         "uid": "23f1e170-99f4-11e8-8758-0c4de9c6b60d",
         "x": [
          "D233-LLN-CD8-TEM-rep4-200ng_S46",
          "D233-LLN-CD8-TEM-rep3-200ng_S35",
          "D233-BM-CD8-TEM-rep4-200ng_S38",
          "D233-LLN-CD8-TRM-rep4-200ng_S45",
          "D233-BM-CD8-TRM-rep4-200ng_S37",
          "D233-BM-CD8-TEM-rep3-200ng_S27",
          "D233-LLN-CD8-TRM-rep3-200ng_S34",
          "D233-BM-CD8-TRM-rep3-200ng_S26"
         ],
         "y": [
          "D233-LLN-CD8-TEM-rep4-200ng_S46",
          "D233-LLN-CD8-TEM-rep3-200ng_S35",
          "D233-BM-CD8-TEM-rep4-200ng_S38",
          "D233-LLN-CD8-TRM-rep4-200ng_S45",
          "D233-BM-CD8-TRM-rep4-200ng_S37",
          "D233-BM-CD8-TEM-rep3-200ng_S27",
          "D233-LLN-CD8-TRM-rep3-200ng_S34",
          "D233-BM-CD8-TRM-rep3-200ng_S26"
         ],
         "z": [
          [
           0,
           0.03342012902932823,
           0.20306981270408808,
           0.15066769437982463,
           0.6058873463931809,
           0.1722919428581119,
           0.17812278220731703,
           0.5484365522248876
          ],
          [
           0.03342012902932823,
           0,
           0.16599128262999918,
           0.11859971533663038,
           0.5716308231261598,
           0.14983711535798638,
           0.14336528869147513,
           0.5057231634556527
          ],
          [
           0.20306981270408808,
           0.16599128262999918,
           0,
           0.1971383369328562,
           0.40198883113396056,
           0.01964933071096775,
           0.2169446857887335,
           0.32740325652698865
          ],
          [
           0.15066769437982463,
           0.11859971533663038,
           0.1971383369328562,
           0,
           0.5313647516723079,
           0.19113509265278172,
           0.035535911794037034,
           0.4694712341043862
          ],
          [
           0.6058873463931809,
           0.5716308231261598,
           0.40198883113396056,
           0.5313647516723079,
           0,
           0.43720965667157285,
           0.5393106595058001,
           0.018796547566545696
          ],
          [
           0.1722919428581119,
           0.14983711535798638,
           0.01964933071096775,
           0.19113509265278172,
           0.43720965667157285,
           0,
           0.21222093507964856,
           0.36145798317241773
          ],
          [
           0.17812278220731703,
           0.14336528869147513,
           0.2169446857887335,
           0.035535911794037034,
           0.5393106595058001,
           0.21222093507964856,
           0,
           0.4776478554943552
          ],
          [
           0.5484365522248876,
           0.5057231634556527,
           0.32740325652698865,
           0.4694712341043862,
           0.018796547566545696,
           0.36145798317241773,
           0.4776478554943552,
           0
          ]
         ]
        }
       ],
       "layout": {}
      },
      "text/html": [
       "<div id=\"3387f3b0-cf47-446c-9c6f-2ff2073b8f68\" style=\"height: 525px; width: 100%;\" class=\"plotly-graph-div\"></div><script type=\"text/javascript\">require([\"plotly\"], function(Plotly) { window.PLOTLYENV=window.PLOTLYENV || {};window.PLOTLYENV.BASE_URL=\"https://plot.ly\";Plotly.newPlot(\"3387f3b0-cf47-446c-9c6f-2ff2073b8f68\", [{\"y\": [\"D233-LLN-CD8-TEM-rep4-200ng_S46\", \"D233-LLN-CD8-TEM-rep3-200ng_S35\", \"D233-BM-CD8-TEM-rep4-200ng_S38\", \"D233-LLN-CD8-TRM-rep4-200ng_S45\", \"D233-BM-CD8-TRM-rep4-200ng_S37\", \"D233-BM-CD8-TEM-rep3-200ng_S27\", \"D233-LLN-CD8-TRM-rep3-200ng_S34\", \"D233-BM-CD8-TRM-rep3-200ng_S26\"], \"x\": [\"D233-LLN-CD8-TEM-rep4-200ng_S46\", \"D233-LLN-CD8-TEM-rep3-200ng_S35\", \"D233-BM-CD8-TEM-rep4-200ng_S38\", \"D233-LLN-CD8-TRM-rep4-200ng_S45\", \"D233-BM-CD8-TRM-rep4-200ng_S37\", \"D233-BM-CD8-TEM-rep3-200ng_S27\", \"D233-LLN-CD8-TRM-rep3-200ng_S34\", \"D233-BM-CD8-TRM-rep3-200ng_S26\"], \"z\": [[0.0, 0.03342012902932823, 0.20306981270408808, 0.15066769437982463, 0.6058873463931809, 0.1722919428581119, 0.17812278220731703, 0.5484365522248876], [0.03342012902932823, 0.0, 0.16599128262999918, 0.11859971533663038, 0.5716308231261598, 0.14983711535798638, 0.14336528869147513, 0.5057231634556527], [0.20306981270408808, 0.16599128262999918, 0.0, 0.1971383369328562, 0.40198883113396056, 0.01964933071096775, 0.2169446857887335, 0.32740325652698865], [0.15066769437982463, 0.11859971533663038, 0.1971383369328562, 0.0, 0.5313647516723079, 0.19113509265278172, 0.035535911794037034, 0.4694712341043862], [0.6058873463931809, 0.5716308231261598, 0.40198883113396056, 0.5313647516723079, 0.0, 0.43720965667157285, 0.5393106595058001, 0.018796547566545696], [0.1722919428581119, 0.14983711535798638, 0.01964933071096775, 0.19113509265278172, 0.43720965667157285, 0.0, 0.21222093507964856, 0.36145798317241773], [0.17812278220731703, 0.14336528869147513, 0.2169446857887335, 0.035535911794037034, 0.5393106595058001, 0.21222093507964856, 0.0, 0.4776478554943552], [0.5484365522248876, 0.5057231634556527, 0.32740325652698865, 0.4694712341043862, 0.018796547566545696, 0.36145798317241773, 0.4776478554943552, 0.0]], \"type\": \"heatmap\", \"uid\": \"24631b00-99f4-11e8-bd9e-0c4de9c6b60d\"}], {}, {\"linkText\": \"Export to plot.ly\", \"showLink\": true})});</script>"
      ],
      "text/vnd.plotly.v1+html": [
       "<div id=\"3387f3b0-cf47-446c-9c6f-2ff2073b8f68\" style=\"height: 525px; width: 100%;\" class=\"plotly-graph-div\"></div><script type=\"text/javascript\">require([\"plotly\"], function(Plotly) { window.PLOTLYENV=window.PLOTLYENV || {};window.PLOTLYENV.BASE_URL=\"https://plot.ly\";Plotly.newPlot(\"3387f3b0-cf47-446c-9c6f-2ff2073b8f68\", [{\"y\": [\"D233-LLN-CD8-TEM-rep4-200ng_S46\", \"D233-LLN-CD8-TEM-rep3-200ng_S35\", \"D233-BM-CD8-TEM-rep4-200ng_S38\", \"D233-LLN-CD8-TRM-rep4-200ng_S45\", \"D233-BM-CD8-TRM-rep4-200ng_S37\", \"D233-BM-CD8-TEM-rep3-200ng_S27\", \"D233-LLN-CD8-TRM-rep3-200ng_S34\", \"D233-BM-CD8-TRM-rep3-200ng_S26\"], \"x\": [\"D233-LLN-CD8-TEM-rep4-200ng_S46\", \"D233-LLN-CD8-TEM-rep3-200ng_S35\", \"D233-BM-CD8-TEM-rep4-200ng_S38\", \"D233-LLN-CD8-TRM-rep4-200ng_S45\", \"D233-BM-CD8-TRM-rep4-200ng_S37\", \"D233-BM-CD8-TEM-rep3-200ng_S27\", \"D233-LLN-CD8-TRM-rep3-200ng_S34\", \"D233-BM-CD8-TRM-rep3-200ng_S26\"], \"z\": [[0.0, 0.03342012902932823, 0.20306981270408808, 0.15066769437982463, 0.6058873463931809, 0.1722919428581119, 0.17812278220731703, 0.5484365522248876], [0.03342012902932823, 0.0, 0.16599128262999918, 0.11859971533663038, 0.5716308231261598, 0.14983711535798638, 0.14336528869147513, 0.5057231634556527], [0.20306981270408808, 0.16599128262999918, 0.0, 0.1971383369328562, 0.40198883113396056, 0.01964933071096775, 0.2169446857887335, 0.32740325652698865], [0.15066769437982463, 0.11859971533663038, 0.1971383369328562, 0.0, 0.5313647516723079, 0.19113509265278172, 0.035535911794037034, 0.4694712341043862], [0.6058873463931809, 0.5716308231261598, 0.40198883113396056, 0.5313647516723079, 0.0, 0.43720965667157285, 0.5393106595058001, 0.018796547566545696], [0.1722919428581119, 0.14983711535798638, 0.01964933071096775, 0.19113509265278172, 0.43720965667157285, 0.0, 0.21222093507964856, 0.36145798317241773], [0.17812278220731703, 0.14336528869147513, 0.2169446857887335, 0.035535911794037034, 0.5393106595058001, 0.21222093507964856, 0.0, 0.4776478554943552], [0.5484365522248876, 0.5057231634556527, 0.32740325652698865, 0.4694712341043862, 0.018796547566545696, 0.36145798317241773, 0.4776478554943552, 0.0]], \"type\": \"heatmap\", \"uid\": \"24631b00-99f4-11e8-bd9e-0c4de9c6b60d\"}], {}, {\"linkText\": \"Export to plot.ly\", \"showLink\": true})});</script>"
      ]
     },
     "metadata": {},
     "output_type": "display_data"
    }
   ],
   "source": [
    "METRIC = \"cosine\"\n",
    "\n",
    "num_rows = len(samples)\n",
    "num_cols = len(distances[METRIC]) / num_rows\n",
    "dist_matrix = np.array( distances[METRIC]).reshape((num_rows, num_cols))\n",
    "\n",
    "trace = go.Heatmap(z = dist_matrix,\n",
    "                   x = list(samples),\n",
    "                   y = list(samples) )\n",
    "data=[trace]\n",
    "iplot(data, filename='Cosine Distance')"
   ]
  },
  {
   "cell_type": "code",
   "execution_count": 5,
   "metadata": {},
   "outputs": [
    {
     "data": {
      "application/vnd.plotly.v1+json": {
       "data": [
        {
         "type": "heatmap",
         "uid": "246c24f0-99f4-11e8-a492-0c4de9c6b60d",
         "x": [
          "D233-LLN-CD8-TEM-rep4-200ng_S46",
          "D233-LLN-CD8-TEM-rep3-200ng_S35",
          "D233-BM-CD8-TEM-rep4-200ng_S38",
          "D233-LLN-CD8-TRM-rep4-200ng_S45",
          "D233-BM-CD8-TRM-rep4-200ng_S37",
          "D233-BM-CD8-TEM-rep3-200ng_S27",
          "D233-LLN-CD8-TRM-rep3-200ng_S34",
          "D233-BM-CD8-TRM-rep3-200ng_S26"
         ],
         "y": [
          "D233-LLN-CD8-TEM-rep4-200ng_S46",
          "D233-LLN-CD8-TEM-rep3-200ng_S35",
          "D233-BM-CD8-TEM-rep4-200ng_S38",
          "D233-LLN-CD8-TRM-rep4-200ng_S45",
          "D233-BM-CD8-TRM-rep4-200ng_S37",
          "D233-BM-CD8-TEM-rep3-200ng_S27",
          "D233-LLN-CD8-TRM-rep3-200ng_S34",
          "D233-BM-CD8-TRM-rep3-200ng_S26"
         ],
         "z": [
          [
           1,
           0.9543039319872476,
           0.9724466816796927,
           0.9735763097949887,
           0.9843173431734318,
           0.9749220374220374,
           0.9737268518518518,
           0.9841141626278944
          ],
          [
           0.9543039319872476,
           1,
           0.9715627095908786,
           0.9682557873023149,
           0.9842980705256155,
           0.969784932049083,
           0.9726680623400791,
           0.9835508428493747
          ],
          [
           0.9724466816796927,
           0.9715627095908786,
           1,
           0.9800278680910358,
           0.9686389618414954,
           0.9430035719832273,
           0.9792281364333766,
           0.9663972103344428
          ],
          [
           0.9735763097949887,
           0.9682557873023149,
           0.9800278680910358,
           1,
           0.9842782277274893,
           0.9805045871559633,
           0.9582062577657291,
           0.9851179673321234
          ],
          [
           0.9843173431734318,
           0.9842980705256155,
           0.9686389618414954,
           0.9842782277274893,
           1,
           0.9697015834348356,
           0.9841461938763161,
           0.943210775391336
          ],
          [
           0.9749220374220374,
           0.969784932049083,
           0.9430035719832273,
           0.9805045871559633,
           0.9697015834348356,
           1,
           0.9790624636501105,
           0.964797507788162
          ],
          [
           0.9737268518518518,
           0.9726680623400791,
           0.9792281364333766,
           0.9582062577657291,
           0.9841461938763161,
           0.9790624636501105,
           1,
           0.981456298677216
          ],
          [
           0.9841141626278944,
           0.9835508428493747,
           0.9663972103344428,
           0.9851179673321234,
           0.943210775391336,
           0.964797507788162,
           0.981456298677216,
           1
          ]
         ]
        }
       ],
       "layout": {}
      },
      "text/html": [
       "<div id=\"1dad4e1c-7062-4f54-9b35-0e4bb3bcb135\" style=\"height: 525px; width: 100%;\" class=\"plotly-graph-div\"></div><script type=\"text/javascript\">require([\"plotly\"], function(Plotly) { window.PLOTLYENV=window.PLOTLYENV || {};window.PLOTLYENV.BASE_URL=\"https://plot.ly\";Plotly.newPlot(\"1dad4e1c-7062-4f54-9b35-0e4bb3bcb135\", [{\"y\": [\"D233-LLN-CD8-TEM-rep4-200ng_S46\", \"D233-LLN-CD8-TEM-rep3-200ng_S35\", \"D233-BM-CD8-TEM-rep4-200ng_S38\", \"D233-LLN-CD8-TRM-rep4-200ng_S45\", \"D233-BM-CD8-TRM-rep4-200ng_S37\", \"D233-BM-CD8-TEM-rep3-200ng_S27\", \"D233-LLN-CD8-TRM-rep3-200ng_S34\", \"D233-BM-CD8-TRM-rep3-200ng_S26\"], \"x\": [\"D233-LLN-CD8-TEM-rep4-200ng_S46\", \"D233-LLN-CD8-TEM-rep3-200ng_S35\", \"D233-BM-CD8-TEM-rep4-200ng_S38\", \"D233-LLN-CD8-TRM-rep4-200ng_S45\", \"D233-BM-CD8-TRM-rep4-200ng_S37\", \"D233-BM-CD8-TEM-rep3-200ng_S27\", \"D233-LLN-CD8-TRM-rep3-200ng_S34\", \"D233-BM-CD8-TRM-rep3-200ng_S26\"], \"z\": [[1.0, 0.9543039319872476, 0.9724466816796927, 0.9735763097949887, 0.9843173431734318, 0.9749220374220374, 0.9737268518518518, 0.9841141626278944], [0.9543039319872476, 1.0, 0.9715627095908786, 0.9682557873023149, 0.9842980705256155, 0.969784932049083, 0.9726680623400791, 0.9835508428493747], [0.9724466816796927, 0.9715627095908786, 1.0, 0.9800278680910358, 0.9686389618414954, 0.9430035719832273, 0.9792281364333766, 0.9663972103344428], [0.9735763097949887, 0.9682557873023149, 0.9800278680910358, 1.0, 0.9842782277274893, 0.9805045871559633, 0.9582062577657291, 0.9851179673321234], [0.9843173431734318, 0.9842980705256155, 0.9686389618414954, 0.9842782277274893, 1.0, 0.9697015834348356, 0.9841461938763161, 0.943210775391336], [0.9749220374220374, 0.969784932049083, 0.9430035719832273, 0.9805045871559633, 0.9697015834348356, 1.0, 0.9790624636501105, 0.964797507788162], [0.9737268518518518, 0.9726680623400791, 0.9792281364333766, 0.9582062577657291, 0.9841461938763161, 0.9790624636501105, 1.0, 0.981456298677216], [0.9841141626278944, 0.9835508428493747, 0.9663972103344428, 0.9851179673321234, 0.943210775391336, 0.964797507788162, 0.981456298677216, 1.0]], \"type\": \"heatmap\", \"uid\": \"247503a3-99f4-11e8-b9d3-0c4de9c6b60d\"}], {}, {\"linkText\": \"Export to plot.ly\", \"showLink\": true})});</script>"
      ],
      "text/vnd.plotly.v1+html": [
       "<div id=\"1dad4e1c-7062-4f54-9b35-0e4bb3bcb135\" style=\"height: 525px; width: 100%;\" class=\"plotly-graph-div\"></div><script type=\"text/javascript\">require([\"plotly\"], function(Plotly) { window.PLOTLYENV=window.PLOTLYENV || {};window.PLOTLYENV.BASE_URL=\"https://plot.ly\";Plotly.newPlot(\"1dad4e1c-7062-4f54-9b35-0e4bb3bcb135\", [{\"y\": [\"D233-LLN-CD8-TEM-rep4-200ng_S46\", \"D233-LLN-CD8-TEM-rep3-200ng_S35\", \"D233-BM-CD8-TEM-rep4-200ng_S38\", \"D233-LLN-CD8-TRM-rep4-200ng_S45\", \"D233-BM-CD8-TRM-rep4-200ng_S37\", \"D233-BM-CD8-TEM-rep3-200ng_S27\", \"D233-LLN-CD8-TRM-rep3-200ng_S34\", \"D233-BM-CD8-TRM-rep3-200ng_S26\"], \"x\": [\"D233-LLN-CD8-TEM-rep4-200ng_S46\", \"D233-LLN-CD8-TEM-rep3-200ng_S35\", \"D233-BM-CD8-TEM-rep4-200ng_S38\", \"D233-LLN-CD8-TRM-rep4-200ng_S45\", \"D233-BM-CD8-TRM-rep4-200ng_S37\", \"D233-BM-CD8-TEM-rep3-200ng_S27\", \"D233-LLN-CD8-TRM-rep3-200ng_S34\", \"D233-BM-CD8-TRM-rep3-200ng_S26\"], \"z\": [[1.0, 0.9543039319872476, 0.9724466816796927, 0.9735763097949887, 0.9843173431734318, 0.9749220374220374, 0.9737268518518518, 0.9841141626278944], [0.9543039319872476, 1.0, 0.9715627095908786, 0.9682557873023149, 0.9842980705256155, 0.969784932049083, 0.9726680623400791, 0.9835508428493747], [0.9724466816796927, 0.9715627095908786, 1.0, 0.9800278680910358, 0.9686389618414954, 0.9430035719832273, 0.9792281364333766, 0.9663972103344428], [0.9735763097949887, 0.9682557873023149, 0.9800278680910358, 1.0, 0.9842782277274893, 0.9805045871559633, 0.9582062577657291, 0.9851179673321234], [0.9843173431734318, 0.9842980705256155, 0.9686389618414954, 0.9842782277274893, 1.0, 0.9697015834348356, 0.9841461938763161, 0.943210775391336], [0.9749220374220374, 0.969784932049083, 0.9430035719832273, 0.9805045871559633, 0.9697015834348356, 1.0, 0.9790624636501105, 0.964797507788162], [0.9737268518518518, 0.9726680623400791, 0.9792281364333766, 0.9582062577657291, 0.9841461938763161, 0.9790624636501105, 1.0, 0.981456298677216], [0.9841141626278944, 0.9835508428493747, 0.9663972103344428, 0.9851179673321234, 0.943210775391336, 0.964797507788162, 0.981456298677216, 1.0]], \"type\": \"heatmap\", \"uid\": \"247503a3-99f4-11e8-b9d3-0c4de9c6b60d\"}], {}, {\"linkText\": \"Export to plot.ly\", \"showLink\": true})});</script>"
      ]
     },
     "metadata": {},
     "output_type": "display_data"
    }
   ],
   "source": [
    "METRIC = \"jaccard\"\n",
    "\n",
    "num_rows = len(samples)\n",
    "num_cols = len(distances[METRIC]) / num_rows\n",
    "dist_matrix = np.array( distances[METRIC]).reshape((num_rows, num_cols))\n",
    "\n",
    "trace = go.Heatmap(z = dist_matrix,\n",
    "                   x = list(samples),\n",
    "                   y = list(samples) )\n",
    "data=[trace]\n",
    "iplot(data, filename='Cosine Distance')"
   ]
  },
  {
   "cell_type": "code",
   "execution_count": null,
   "metadata": {
    "collapsed": true
   },
   "outputs": [],
   "source": []
  }
 ],
 "metadata": {
  "kernelspec": {
   "display_name": "Python 2",
   "language": "python",
   "name": "python2"
  },
  "language_info": {
   "codemirror_mode": {
    "name": "ipython",
    "version": 2
   },
   "file_extension": ".py",
   "mimetype": "text/x-python",
   "name": "python",
   "nbconvert_exporter": "python",
   "pygments_lexer": "ipython2",
   "version": "2.7.12"
  }
 },
 "nbformat": 4,
 "nbformat_minor": 2
}
