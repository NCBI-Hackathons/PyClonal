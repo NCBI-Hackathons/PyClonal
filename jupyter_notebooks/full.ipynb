{
 "cells": [
  {
   "cell_type": "markdown",
   "metadata": {},
   "source": [
    "# PyClonal "
   ]
  },
  {
   "cell_type": "code",
   "execution_count": 1,
   "metadata": {},
   "outputs": [
    {
     "data": {
      "text/html": [
       "<img src=\"image.jpg\">"
      ],
      "text/plain": [
       "<IPython.core.display.HTML object>"
      ]
     },
     "metadata": {},
     "output_type": "display_data"
    }
   ],
   "source": [
    "%%html\n",
    "<img src=\"image.jpg\">"
   ]
  },
  {
   "cell_type": "markdown",
   "metadata": {},
   "source": [
    "# Calculating Overlap Between Samples"
   ]
  },
  {
   "cell_type": "markdown",
   "metadata": {},
   "source": [
    "The purpse of this notebook is to analyze TCR receptor sequencing data. The input data for this notebook is the TCR sequencing data post-aligment. For examples of what this data looks like go here. (add link to a page that talks about input data types)"
   ]
  },
  {
   "cell_type": "code",
   "execution_count": 2,
   "metadata": {},
   "outputs": [
    {
     "name": "stderr",
     "output_type": "stream",
     "text": [
      "/anaconda3/lib/python3.6/site-packages/IPython/html.py:14: ShimWarning:\n",
      "\n",
      "The `IPython.html` package has been deprecated since IPython 4.0. You should import from `notebook` instead. `IPython.html.widgets` has moved to `ipywidgets`.\n",
      "\n"
     ]
    },
    {
     "data": {
      "text/html": [
       "<script>requirejs.config({paths: { 'plotly': ['https://cdn.plot.ly/plotly-latest.min']},});if(!window.Plotly) {{require(['plotly'],function(plotly) {window.Plotly=plotly;});}}</script>"
      ],
      "text/vnd.plotly.v1+html": [
       "<script>requirejs.config({paths: { 'plotly': ['https://cdn.plot.ly/plotly-latest.min']},});if(!window.Plotly) {{require(['plotly'],function(plotly) {window.Plotly=plotly;});}}</script>"
      ]
     },
     "metadata": {},
     "output_type": "display_data"
    }
   ],
   "source": [
    "from plotly.offline import init_notebook_mode, iplot\n",
    "import plotly.plotly as py\n",
    "import plotly.graph_objs as go\n",
    "from IPython.html.widgets import interact\n",
    "init_notebook_mode(connected=True)\n",
    "\n",
    "from plotly.offline import iplot\n",
    "\n",
    "from scipy.spatial.distance import cosine, jaccard\n",
    "\n",
    "import pandas as pd\n",
    "import numpy as np"
   ]
  },
  {
   "cell_type": "markdown",
   "metadata": {},
   "source": [
    "## Step 1: Load your TCR data"
   ]
  },
  {
   "cell_type": "code",
   "execution_count": 3,
   "metadata": {},
   "outputs": [],
   "source": [
    "basepath = \"../sample_input_files/miron-changeo(1)/\"\n",
    "files = [\"D233.changeo.tsv\", \"D255.changeo.tsv\", \"D280.changeo.tsv\", \"D287.changeo.tsv\", \"D299.changeo.tsv\" ]\n",
    "\n",
    "# change these header based on the data type \n",
    "# below format for changeo\n",
    "COUNTS_HEADER = \"DUPCOUNT\"\n",
    "SEQ_HEADER = \"CLONE_CDR3_AA\"\n",
    "SAMPLE_HEADER = \"SAMPLE\""
   ]
  },
  {
   "cell_type": "markdown",
   "metadata": {},
   "source": [
    "## Step 2: Load your meta data"
   ]
  },
  {
   "cell_type": "code",
   "execution_count": 4,
   "metadata": {},
   "outputs": [],
   "source": [
    "# =======================================================\n",
    "# Avoid changes below this\n",
    "# =======================================================\n",
    "\n",
    "def get_df(df, feature, token, index):\n",
    "    new_df = df[ df[feature] == token ]\n",
    "    del new_df[feature]\n",
    "    new_df = new_df.groupby(index).sum()\n",
    "    \n",
    "    return new_df\n",
    "\n",
    "for filename in files:\n",
    "    filepath = basepath + filename\n",
    "    \n",
    "    # extract relevant data only\n",
    "    df = pd.read_table(filepath, sep=\"\\t\").loc[:, [ COUNTS_HEADER, SEQ_HEADER, SAMPLE_HEADER]]\n",
    "    \n",
    "    # group by sum and melting the data frame\n",
    "    gp = df.groupby([ SAMPLE_HEADER, SEQ_HEADER]).sum().reset_index()\n",
    "    \n",
    "    # extracting unique file related metadata\n",
    "    seqs = set(gp[SEQ_HEADER].values)\n",
    "    samples = set(gp[SAMPLE_HEADER].values)\n",
    "    \n",
    "    # make a dictionary with the sequence indices\n",
    "    seq_indices = {}\n",
    "    for index, seq in enumerate(seqs):\n",
    "        seq_indices[index] = seq\n",
    "    \n",
    "    # making relevant dataframe for meta data\n",
    "    sample_meta_data = {}\n",
    "    for sample in samples:\n",
    "        toks = sample.strip().split(\"-\")\n",
    "        meta_data = {}\n",
    "\n",
    "        meta_data['patient_id'] = toks[0]\n",
    "        meta_data['tissue_id'] = toks[1]\n",
    "        meta_data['protein'] = toks[2]\n",
    "        meta_data['cell_type'] = toks[3]\n",
    "        meta_data['replicate'] = toks[4]\n",
    "        meta_data['extras'] = toks[5:]\n",
    "\n",
    "        sample_meta_data[sample] = meta_data\n",
    "    \n",
    "    # No aggregate step for now\n",
    "    distances = {'cosine': [], 'jaccard': []}\n",
    "    for sample1 in list(samples):\n",
    "        for sample2 in list(samples):\n",
    "            \n",
    "            if sample1 == sample2:\n",
    "                distances['cosine'].append(0.0)\n",
    "                distances['jaccard'].append(1.0)\n",
    "                continue\n",
    "            \n",
    "            ct = pd.concat([ get_df(df, SAMPLE_HEADER, sample1, SEQ_HEADER),\n",
    "                             get_df(df, SAMPLE_HEADER, sample2, SEQ_HEADER)], axis=1 ).fillna(0)\n",
    "            ct.columns = [sample1, sample2]\n",
    "\n",
    "            dist = cosine(ct[sample1].values, ct[sample2].values)\n",
    "            distances['cosine'].append(dist)\n",
    "            \n",
    "            dist = jaccard(ct[sample1].values, ct[sample2].values)\n",
    "            distances['jaccard'].append(dist)\n",
    "    \n",
    "    # currently perfroming for one file\n",
    "    # can be easily extended to all\n",
    "    break"
   ]
  },
  {
   "cell_type": "markdown",
   "metadata": {},
   "source": [
    "# Step 3: Make plots"
   ]
  },
  {
   "cell_type": "code",
   "execution_count": 5,
   "metadata": {},
   "outputs": [],
   "source": [
    "def plot_heatmap(method):\n",
    "    METRIC = method\n",
    "\n",
    "    num_rows = len(samples)\n",
    "    num_cols = int(len(distances[METRIC]) / num_rows)\n",
    "    dist_matrix = np.array( distances[METRIC]).reshape((num_rows, num_cols))\n",
    "\n",
    "    trace = go.Heatmap(z = dist_matrix,\n",
    "                       x = list(samples),\n",
    "                       y = list(samples) )\n",
    "    data=[trace]\n",
    "    iplot(data, filename=method+' Distance')"
   ]
  },
  {
   "cell_type": "code",
   "execution_count": 6,
   "metadata": {},
   "outputs": [
    {
     "data": {
      "application/vnd.jupyter.widget-view+json": {
       "model_id": "89f6fbb985814ac4b99448006395ee98",
       "version_major": 2,
       "version_minor": 0
      },
      "text/plain": [
       "interactive(children=(Dropdown(description='method', options=('jaccard', 'cosine'), value='jaccard'), Output()…"
      ]
     },
     "metadata": {},
     "output_type": "display_data"
    },
    {
     "data": {
      "text/plain": [
       "<function __main__.plot_heatmap>"
      ]
     },
     "execution_count": 6,
     "metadata": {},
     "output_type": "execute_result"
    }
   ],
   "source": [
    "interact(plot_heatmap, method=['jaccard', 'cosine'])"
   ]
  },
  {
   "cell_type": "markdown",
   "metadata": {
    "collapsed": true
   },
   "source": [
    "# Export your data"
   ]
  }
 ],
 "metadata": {
  "kernelspec": {
   "display_name": "Python 3",
   "language": "python",
   "name": "python3"
  },
  "language_info": {
   "codemirror_mode": {
    "name": "ipython",
    "version": 3
   },
   "file_extension": ".py",
   "mimetype": "text/x-python",
   "name": "python",
   "nbconvert_exporter": "python",
   "pygments_lexer": "ipython3",
   "version": "3.6.4"
  }
 },
 "nbformat": 4,
 "nbformat_minor": 2
}
