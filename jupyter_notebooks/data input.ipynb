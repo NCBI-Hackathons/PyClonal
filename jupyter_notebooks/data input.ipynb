{
 "cells": [
  {
   "cell_type": "code",
   "execution_count": 1,
   "metadata": {},
   "outputs": [
    {
     "name": "stderr",
     "output_type": "stream",
     "text": [
      "/home/ilya/.virtualenvs/PyClonal-RT_r4YkF/lib/python3.6/importlib/_bootstrap.py:219: RuntimeWarning: numpy.dtype size changed, may indicate binary incompatibility. Expected 96, got 88\n",
      "  return f(*args, **kwds)\n"
     ]
    }
   ],
   "source": [
    "%load_ext autoreload\n",
    "%autoreload 2\n",
    "import glob\n",
    "from pyclonal.parser import combineFiles"
   ]
  },
  {
   "cell_type": "code",
   "execution_count": 2,
   "metadata": {},
   "outputs": [
    {
     "name": "stdout",
     "output_type": "stream",
     "text": [
      "total 417M\r\n",
      "drwxr-xr-x 4 ilya ilya 4.0K Aug  7 10:41  \u001b[0m\u001b[01;34m.\u001b[0m/\r\n",
      "drwxr-xr-x 7 ilya ilya 4.0K Aug  7 11:06  \u001b[01;34m..\u001b[0m/\r\n",
      "-rw-r--r-- 1 ilya ilya 9.5M Aug  6 15:20  changeo_combined.samples.tsv\r\n",
      "-rw-r--r-- 1 ilya ilya 1.2M Aug  6 15:20  changeo_combined.sequences.tsv\r\n",
      "-rw-r--r-- 1 ilya ilya  13M Aug  6 15:20  cosine_test_data.tsv\r\n",
      "-rw-r--r-- 1 ilya ilya 101M Aug  6 13:18  D233.changeo.tsv\r\n",
      "-rw-r--r-- 1 ilya ilya  37M Aug  6 13:18  D255.changeo.tsv\r\n",
      "-rw-r--r-- 1 ilya ilya  38M Aug  6 13:19  D280.changeo.tsv\r\n",
      "-rw-r--r-- 1 ilya ilya 116M Aug  6 13:21  D287.changeo.tsv\r\n",
      "-rw-r--r-- 1 ilya ilya  83M Aug  6 13:23  D299.changeo.tsv\r\n",
      "-rw-r--r-- 1 ilya ilya 717K Aug  6 11:34  default_mixcr_output_format.txt\r\n",
      "-rw-r--r-- 1 ilya ilya 2.5K Aug  7 10:41  metadata_csv.txt\r\n",
      "-rw-r--r-- 1 ilya ilya  21M Aug  6 14:02 \u001b[01;31m'miron-changeo(1).tgz'\u001b[0m\r\n",
      "drwxr-xr-x 2 ilya ilya 4.0K Aug  7 11:23  \u001b[01;34mSample_IMMUNOSEQ_files\u001b[0m/\r\n",
      "drwxr-xr-x 2 ilya ilya 4.0K Aug  6 15:47  \u001b[01;34mten_mixcr_sample_files\u001b[0m/\r\n",
      "-rw-r--r-- 1 ilya ilya 223K Aug  6 11:34  vdjtools_format.txt\r\n"
     ]
    }
   ],
   "source": [
    "ls -lah ../sample_input_files/"
   ]
  },
  {
   "cell_type": "markdown",
   "metadata": {},
   "source": [
    "## `CHANGEO` format"
   ]
  },
  {
   "cell_type": "code",
   "execution_count": null,
   "metadata": {},
   "outputs": [
    {
     "name": "stdout",
     "output_type": "stream",
     "text": [
      "../sample_input_files/D287.changeo.tsv looks like a changeo file\n",
      "../sample_input_files/D299.changeo.tsv looks like a changeo file\n",
      "../sample_input_files/D280.changeo.tsv looks like a changeo file\n",
      "../sample_input_files/D255.changeo.tsv looks like a changeo file\n",
      "../sample_input_files/D233.changeo.tsv looks like a changeo file\n"
     ]
    }
   ],
   "source": [
    "clone_df, seq_df = combineFiles(glob.glob('../sample_input_files/D*.tsv'))"
   ]
  },
  {
   "cell_type": "code",
   "execution_count": null,
   "metadata": {
    "scrolled": true
   },
   "outputs": [],
   "source": [
    "seq_df"
   ]
  },
  {
   "cell_type": "code",
   "execution_count": null,
   "metadata": {
    "scrolled": true
   },
   "outputs": [],
   "source": [
    "clone_df"
   ]
  },
  {
   "cell_type": "markdown",
   "metadata": {},
   "source": [
    "## `MIXCR` format"
   ]
  },
  {
   "cell_type": "code",
   "execution_count": null,
   "metadata": {},
   "outputs": [],
   "source": [
    "ls -lah ../sample_input_files/ten_mixcr_sample_files/"
   ]
  },
  {
   "cell_type": "code",
   "execution_count": null,
   "metadata": {},
   "outputs": [],
   "source": [
    "clone_df, seq_df = combineFiles(glob.glob('../sample_input_files/ten_mixcr_sample_files/p*.txt'))"
   ]
  },
  {
   "cell_type": "code",
   "execution_count": null,
   "metadata": {},
   "outputs": [],
   "source": [
    "clone_df"
   ]
  },
  {
   "cell_type": "code",
   "execution_count": null,
   "metadata": {
    "scrolled": true
   },
   "outputs": [],
   "source": [
    "seq_df"
   ]
  },
  {
   "cell_type": "markdown",
   "metadata": {},
   "source": [
    "## `VDJtools` format"
   ]
  },
  {
   "cell_type": "code",
   "execution_count": null,
   "metadata": {},
   "outputs": [],
   "source": [
    "clone_df, seq_df = combineFiles(glob.glob('../sample_input_files/vdjtools_format.txt'))"
   ]
  },
  {
   "cell_type": "code",
   "execution_count": null,
   "metadata": {},
   "outputs": [],
   "source": [
    "clone_df"
   ]
  },
  {
   "cell_type": "code",
   "execution_count": null,
   "metadata": {},
   "outputs": [],
   "source": [
    "seq_df"
   ]
  },
  {
   "cell_type": "markdown",
   "metadata": {},
   "source": [
    "## Mixing diffrent formats"
   ]
  },
  {
   "cell_type": "code",
   "execution_count": null,
   "metadata": {
    "scrolled": true
   },
   "outputs": [],
   "source": [
    "clone_df, seq_df = combineFiles(['../sample_input_files/D233.changeo.tsv',\n",
    "                                '../sample_input_files/vdjtools_format.txt'])"
   ]
  },
  {
   "cell_type": "code",
   "execution_count": null,
   "metadata": {},
   "outputs": [],
   "source": [
    "clone_df"
   ]
  },
  {
   "cell_type": "code",
   "execution_count": null,
   "metadata": {},
   "outputs": [],
   "source": [
    "seq_df"
   ]
  },
  {
   "cell_type": "code",
   "execution_count": null,
   "metadata": {},
   "outputs": [],
   "source": [
    "clone_df, seq_df = combineFiles(glob.glob('../sample_input_files/Sample_IMMUNOSEQ_files/*.tsv'))"
   ]
  },
  {
   "cell_type": "markdown",
   "metadata": {},
   "source": [
    "## `ImmunoSeq` format"
   ]
  },
  {
   "cell_type": "code",
   "execution_count": null,
   "metadata": {},
   "outputs": [],
   "source": [
    "clone_df"
   ]
  },
  {
   "cell_type": "code",
   "execution_count": null,
   "metadata": {},
   "outputs": [],
   "source": [
    "seq_df"
   ]
  }
 ],
 "metadata": {
  "kernelspec": {
   "display_name": "Python 3",
   "language": "python",
   "name": "python3"
  },
  "language_info": {
   "codemirror_mode": {
    "name": "ipython",
    "version": 3
   },
   "file_extension": ".py",
   "mimetype": "text/x-python",
   "name": "python",
   "nbconvert_exporter": "python",
   "pygments_lexer": "ipython3",
   "version": "3.6.5"
  }
 },
 "nbformat": 4,
 "nbformat_minor": 2
}
