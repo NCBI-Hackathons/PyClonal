{
 "cells": [
  {
   "cell_type": "code",
   "execution_count": 1,
   "metadata": {},
   "outputs": [
    {
     "name": "stderr",
     "output_type": "stream",
     "text": [
      "/home/ilya/.virtualenvs/PyClonal-RT_r4YkF/lib/python3.6/importlib/_bootstrap.py:219: RuntimeWarning: numpy.dtype size changed, may indicate binary incompatibility. Expected 96, got 88\n",
      "  return f(*args, **kwds)\n",
      "/home/ilya/.virtualenvs/PyClonal-RT_r4YkF/lib/python3.6/importlib/_bootstrap.py:219: RuntimeWarning: numpy.dtype size changed, may indicate binary incompatibility. Expected 96, got 88\n",
      "  return f(*args, **kwds)\n"
     ]
    }
   ],
   "source": [
    "%load_ext autoreload\n",
    "%autoreload 2\n",
    "import glob\n",
    "import sys\n",
    "import os\n",
    "\n",
    "try:\n",
    "    import pyclonal\n",
    "except ImportError:\n",
    "    pyclonal_path = os.path.abspath(os.path.join('..'))\n",
    "    if pyclonal_path not in sys.path:\n",
    "        sys.path.append(pyclonal_path)\n",
    "\n",
    "from pyclonal.io import combineFiles"
   ]
  },
  {
   "cell_type": "code",
   "execution_count": 2,
   "metadata": {},
   "outputs": [
    {
     "name": "stdout",
     "output_type": "stream",
     "text": [
      "total 51M\r\n",
      "drwxr-xr-x 4 ilya ilya 4.0K Aug  8 08:51  \u001b[0m\u001b[01;34m.\u001b[0m/\r\n",
      "drwxr-xr-x 8 ilya ilya 4.0K Aug  7 16:51  \u001b[01;34m..\u001b[0m/\r\n",
      "-rw-r--r-- 1 ilya ilya 9.5M Aug  6 15:20  changeo_combined.samples.tsv\r\n",
      "-rw-r--r-- 1 ilya ilya 1.2M Aug  6 15:20  changeo_combined.sequences.tsv\r\n",
      "-rw-r--r-- 1 ilya ilya  13M Aug  6 15:20  cosine_test_data.tsv\r\n",
      "-rw-r--r-- 1 ilya ilya 571K Aug  8 08:51  D233.changeo_small_fixed.tsv\r\n",
      "-rw-r--r-- 1 ilya ilya 600K Aug  7 16:01  D233.changeo_small.tsv\r\n",
      "-rw-r--r-- 1 ilya ilya 565K Aug  8 08:51  D255.changeo_small_fixed.tsv\r\n",
      "-rw-r--r-- 1 ilya ilya 593K Aug  7 16:01  D255.changeo_small.tsv\r\n",
      "-rw-r--r-- 1 ilya ilya 571K Aug  8 08:51  D280.changeo_small_fixed.tsv\r\n",
      "-rw-r--r-- 1 ilya ilya 599K Aug  7 16:01  D280.changeo_small.tsv\r\n",
      "-rw-r--r-- 1 ilya ilya 571K Aug  8 08:51  D287.changeo_small_fixed.tsv\r\n",
      "-rw-r--r-- 1 ilya ilya 599K Aug  7 16:01  D287.changeo_small.tsv\r\n",
      "-rw-r--r-- 1 ilya ilya 568K Aug  8 08:51  D299.changeo_small_fixed.tsv\r\n",
      "-rw-r--r-- 1 ilya ilya 595K Aug  7 16:01  D299.changeo_small.tsv\r\n",
      "-rw-r--r-- 1 ilya ilya 717K Aug  6 11:34  default_mixcr_output_format.txt\r\n",
      "-rw-r--r-- 1 ilya ilya 2.5K Aug  7 10:41  metadata_csv.txt\r\n",
      "-rw-r--r-- 1 ilya ilya 1.1K Aug  8 08:51  metadata_demo.csv\r\n",
      "-rw-r--r-- 1 ilya ilya  21M Aug  6 14:02 \u001b[01;31m'miron-changeo(1).tgz'\u001b[0m\r\n",
      "drwxr-xr-x 2 ilya ilya 4.0K Aug  7 11:23  \u001b[01;34mSample_IMMUNOSEQ_files\u001b[0m/\r\n",
      "drwxr-xr-x 2 ilya ilya 4.0K Aug  6 15:47  \u001b[01;34mten_mixcr_sample_files\u001b[0m/\r\n",
      "-rw-r--r-- 1 ilya ilya 223K Aug  6 11:34  vdjtools_format.txt\r\n"
     ]
    }
   ],
   "source": [
    "ls -lah ../sample_input_files/"
   ]
  },
  {
   "cell_type": "markdown",
   "metadata": {},
   "source": [
    "## `CHANGEO` format"
   ]
  },
  {
   "cell_type": "code",
   "execution_count": 8,
   "metadata": {},
   "outputs": [
    {
     "name": "stdout",
     "output_type": "stream",
     "text": [
      "SEQUENCE_ID\tSEQUENCE_IMGT\tFUNCTIONAL\tIN_FRAME\tSTOP\tV_CALL\tJ_CALL\tJUNCTION_LENGTH\tJUNCTION\tV_IDENTITY\tV_SCORE\tJ_IDENTITY\tJ_SCORE\tDUPCOUNT\tDUPCOUNT_IN_SUBJECT\tCLONE\tCLONE_CDR3_NT\tCLONE_CDR3_AA\tSAMPLE\tSUBJECT\r\n",
      "M03592:61:000000000-AYPGW:1:1108:11554:13420\tNNNNNNNNNNNNNNNNNNNNNNNNNNNNNNNNNNNNNNNNNNNNNNNNNNNNNNNNNNNNNNNNNNNNNNNNNNNNNNNNNNNNNNN---------------------NNNNNNNNNNNNNNNNNNNNNNNNNNNNNNNNCATGGGGCTGAAACTGATTTATTATTCAGTTGGT------------GCTGGTATCACTGATAAAGGAGAAGTCCCG---AATGGCTACAACGTCTCCAGATCA---ACCACAGAGGATTTCCCGCTCAGGCTGGAGTTGGCTGCTCCCTCCCAGACATCTGTGTACTTCTGTGCCAGCCAAAATACCGGGACACTATACAATGAGCAGTTCTTCGGGCCAGGGACACGGCTCACCGTGCTCG\tT\tT\tF\tTRBV6-6\tTRBJ2-1\t42\tTGTGCCAGCCAAAATACCGGGACACTATACAATGAGCAGTTC\t100.0\t159\t93.75\t45\t1\t0\t20095\tTGTGCCAGCCAAAATACCGGGACACTATACAATGAGCAGTTC\tCASQNTGTLYNEQF\tD233-LLN-CD8-TEM-rep3-200ng_S35\tD233\r\n",
      "M03592:61:000000000-AYPGW:1:1103:5576:12240\tNNNNNNNNNNNNNNNNNNNNNNNNNNNNNNNNNNNNNNNNNNNNNNNNNNNNNNNNNNNNNNNNNNNNNNNNNNNNNNNNNNNNNNN---------------------NNNNNNNNNNNNNNNNNNNNNNNNNNNNNNNNGCAAGGGCTGAGATTGATCTACTACTCACAGATA------------GTAAATGACTTTCAGAAAGGAGATATAGCT---GAAGGGTACAGCGTCTCCCGGGAG---AAGAAGGAATCCTTTCCTCTCACTGTGACATCGGCCCAAAAGAACCCGACAGCTTTCTATCTCTGTGCCAGTAGTATAGGGACAGCTAGCAATCAGCCCCAGCATTTTGGTGATGGGACTCGACTCTCCATCCTAG\tT\tT\tF\tTRBV19\tTRBJ1-5\t42\tTGTGCCAGTAGTATAGGGACAGCTAGCAATCAGCCCCAGCAT\t99.4\t167\t100.0\t50\t10\t10\t4900\tTGTGCCAGTAGTATAGGGACAGCTAGCAATCAGCCCCAGCAT\tCASSIGTASNQPQH\tD233-LLN-CD8-TRM-rep3-200ng_S34\tD233\r\n",
      "M03592:61:000000000-AYPGW:1:2118:14771:18334\tNNNNNNNNNNNNNNNNNNNNNNNNNNNNNNNNNNNNNNNNNNNNNNNNNNNNNNNNNNNNNNNNNNNNNNNNNNNNNNNNNNNNNNN---------------------NNNNNNNNNNNNNNNNNNNNNNNNNNNNNNNNACAGGGCCTTCAGTTCCTCTTTGAATACTTCAGT------------GAGACACAGAGAAACAAAGGAAACTTCCCT---GGTCGATTCTCAGGGCGCCAGTTC---TCTAACTCTCGCTCTGAGATGAATGTGAGCACCTTGGAGCTGGGGGACTCGGCCCTTTATCTTTGCGCCAGCAGCTTGGGCACTGAAGCTTTCTTTGGACAAGGCACCAGACTCACAGTTGTAG\tT\tT\tF\tTRBV5-1\tTRBJ1-1\t30\tTGCGCCAGCAGCTTGGGCACTGAAGCTTTC\t100.0\t167\t95.83\t46\t1\t0\t14400\tTGCGCCAGCAGCTTGGGCACTGAAGCTTTC\tCASSLGTEAF\tD233-LLN-CD8-TRM-rep3-200ng_S34\tD233\r\n",
      "M03592:61:000000000-AYPGW:1:1102:12989:11417\tNNNNNNNNNNNNNNNNNNNNNNNNNNNNNNNNNNNNNNNNNNNNNNNNNNNNNNNNNNNNNNNNNNNNNNNNNNNNNNNNNNNNNNN---------------------NNNNNNNNNNNNNNNNNNNNNNNNNNNNNNNNGCAGGGCCCAGAGTTTCTGACTTACTTCCAGAAT------------GAAGCTCAACTAGAAAAATCAAGGCTGCTCAGTGATCGGTTCTCTGCAGAGAGGCCT---AAGGGATCTTTCTCCACCCTGGAGATCCAGCGCACAGAGCAGGGGGACTCGGCCATGTATCTCTGTGCCAGCAGCTGGGACCATGGCTACACCTTCGGTTCGGGGACCAGGCTCACGGTTACAG\tT\tT\tF\tTRBV7-9\tTRBJ1-2\t30\tTGTGCCAGCAGCTGGGACCATGGCTACACC\t99.39\t164\t82.98\t39\t2\t0\t21440\tTGTGCCAGCAGCTGGGACCATGGCTACACC\tCASSWDHGYT\tD233-BM-CD8-TEM-rep3-200ng_S27\tD233\r\n",
      "M03592:61:000000000-AYPGW:1:1117:24992:21384\tNNNNNNNNNNNNNNNNNNNNNNNNNNNNNNNNNNNNNNNNNNNNNNNNNNNNNNNNNNNNNNNNNNNNNNNNNNNNNNNNNNNNNNN---------------------NNNNNNNNNNNNNNNNNNNNNNNNNNNNNNNNTCTGGGGCTACGGCTGATCTATTTCTCATATGAT------------GTTAAAATGAAAGAAAAAGGAGATATTCCT---GAGGGGTACAGTGTCTCTAGAGAG---AAGAAGGAGCGCTTCTCCCTGATTCTGGAGTCCGCCAGCACCAACCAGACATCTATGTACCTCTGTGCCAGCAGTTCCCGGGACCGGGAAGCCCCATACGAAAAACTGTTCTTTGGCAGTGGAACCCAGCTCTCTGTCTTGG\tT\tT\tF\tTRBV28\tTRBJ1-4\t48\tTGTGCCAGCAGTTCCCGGGACCGGGAAGCCCCATACGAAAAACTGTTC\t100.0\t163\t88.24\t45\t2\t3\t11716\tTGTGCCAGCAGTTCCCGGGACCGGGAAGCCCCATACGAAAAACTGTTC\tCASSSRDREAPYEKLF\tD233-LLN-CD8-TRM-rep3-200ng_S34\tD233\r\n",
      "M03592:61:000000000-AYPGW:1:1108:21088:20669\tNNNNNNNNNNNNNNNNNNNNNNNNNNNNNNNNNNNNNNNNNNNNNNNNNNNNNNNNNNNNNNNNNNNNNNNNNNNNNNNNNNNNNNN---------------------NNNNNNNNNNNNNNNNNNNNNNNNNNNNNNNNACAGGGCCTTCAGTTCCTCTTTGAATACTTCAGT------------GAGACACAGAGAAACAAAGGAAACTTCCCT---GGTCGATTCTCAGGGCGCCAGTTC---TCTAACTCTCGCTCTGAGATGAATGTGAGCACCTTGGAGCTGGGGGACTCGGCCCTTTATCTTTGCGCCAGCAGCTCGGGACTAGCGGGTGACAATGAGCAGTTCTTCGGGCCAGGGACACGGCTCACCGTGCTAG\tT\tT\tF\tTRBV5-1\tTRBJ2-1\t42\tTGCGCCAGCAGCTCGGGACTAGCGGGTGACAATGAGCAGTTC\t100.0\t167\t95.74\t45\t8\t8\t14670\tTGCGCCAGCAGCTCGGGACTAGCGGGTGACAATGAGCAGTTC\tCASSSGLAGDNEQF\tD233-LLN-CD8-TEM-rep3-200ng_S35\tD233\r\n",
      "M03592:61:000000000-AYPGW:1:1114:25243:17843\tNNNNNNNNNNNNNNNNNNNNNNNNNNNNNNNNNNNNNNNNNNNNNNNNNNNNNNNNNNNNNNNNNNNNNNNNNNNNNNNNNNNNNNN---------------------NNNNNNNNNNNNNNNNNNNNNNNNNNNNNNNNGCTGGGCTTAAGGCAGACCTACTATTCAATGAAT------------GTTGAGGTGACTGATAAGGGAGATGTTCCT---GAAGGGTACAAAGTCTCTCGAAAA---GAGAAGAGGAATTTCCCCCTGATCCTGGAGTCGCCCAGCCCCAACCAGACCTCTCTGTACTTCTGTGCCAGCAGTCCCCGGACAGGGATGAATGAGCAGTTCTTCGGGCCAGGGACACGGCTCACCGTGCTAG\tT\tT\tF\tTRBV27\tTRBJ2-1\t39\tTGTGCCAGCAGTCCCCGGACAGGGATGAATGAGCAGTTC\t100.0\t162\t95.56\t43\t2\t0\t9814\tTGTGCCAGCAGTCCCCGGACAGGGATGAATGAGCAGTTC\tCASSPRTGMNEQF\tD233-LLN-CD8-TRM-rep3-200ng_S34\tD233\r\n",
      "M03592:61:000000000-AYPGW:1:1105:14674:6133\tNNNNNNNNNNNNNNNNNNNNNNNNNNNNNNNNNNNNNNNNNNNNNNNNNNNNNNNNNNNNNNNNNNNNNNNNNNNNNNNNNNNNNNN---------------------NNNNNNNNNNNNNNNNNNNNNNNNNNNNNNNNACTGGGCCTACGGTTGATCTATTACTCCTTTGAT------------GTCAAAGATATAAACAAAGGAGAGATCTCT---GATGGATACAGTGTCTCTCGACAG---GCACAGGCTAAATTCTCCCTGTCCCTAGAGTCTGCCATCCCCAACCAGACAGCTCTTTACTTCTGTGCCACCGGTCCGGGACACATTGACTCTGGGGCCAACGTCCTGACTTTCGGGGCCGGCAGCAGGCTCACGGTTACAG\tT\tT\tF\tTRBV24-1\tTRBJ2-6\t48\tTGTGCCACCGGTCCGGGACACATTGACTCTGGGGCCAACGTCCTGACT\t99.38\t161\t88.68\t47\t5\t5\t8868\tTGTGCCACCGGTCCGGGACACATTGACTCTGGGGCCAACGTCCTGACT\tCATGPGHIDSGANVLT\tD233-LLN-CD8-TEM-rep4-200ng_S46\tD233\r\n",
      "M03592:61:000000000-AYPGW:1:1101:28671:8486\tNNNNNNNNNNNNNNNNNNNNNNNNNNNNNNNNNNNNNNNNNNNNNNNNNNNNNNNNNNNNNNNNNNNNNNNNNNNNNNNNNNNNNNN---------------------NNNNNNNNNNNNNNNNNNNNNNNNNNNNNNNNTCAGGGGCCCCAGTTTATCTTTCAGTATTATGAG------------GAGGAAGAGAGACAGAGAGGCAACTTCCCT---GATCGATTCTCAGGTCACCAGTTC---CCTAACTATAGCTCTGAGCTGAATGTGAACGCCTTGTTGCTGGGGGACTCGGCCCTGTATCTCTGTGCCAGCAGCTTGGGGGGCAGGGGACGGGACACTGAAGCTTTCTTTGGACAAGGCACCAGATTCACAGTTGTAG\tT\tT\tF\tTRBV5-6\tTRBJ1-1\t45\tTGTGCCAGCAGCTTGGGGGGCAGGGGACGGGACACTGAAGCTTTC\t99.4\t166\t93.75\t45\t5\t12\t15632\tTGTGCCAGCAGCTTGGGGGGCAGGGGACGGGACACTGAAGCTTTC\tCASSLGGRGRDTEAF\tD233-BM-CD8-TRM-rep3-200ng_S26\tD233\r\n"
     ]
    }
   ],
   "source": [
    "!head ../sample_input_files/D233.changeo_small.tsv"
   ]
  },
  {
   "cell_type": "code",
   "execution_count": 7,
   "metadata": {},
   "outputs": [
    {
     "name": "stdout",
     "output_type": "stream",
     "text": [
      "SEQUENCE_ID,SEQUENCE_IMGT,FUNCTIONAL,IN_FRAME,STOP,V_CALL,J_CALL,JUNCTION_LENGTH,JUNCTION,V_IDENTITY,V_SCORE,J_IDENTITY,J_SCORE,DUPCOUNT,DUPCOUNT_IN_SUBJECT,CLONE,CLONE_CDR3_NT,CLONE_CDR3_AA,SAMPLE,SUBJECT\r\n",
      "M03592:61:000000000-AYPGW:1:1108:11554:13420,NNNNNNNNNNNNNNNNNNNNNNNNNNNNNNNNNNNNNNNNNNNNNNNNNNNNNNNNNNNNNNNNNNNNNNNNNNNNNNNNNNNNNNN---------------------NNNNNNNNNNNNNNNNNNNNNNNNNNNNNNNNCATGGGGCTGAAACTGATTTATTATTCAGTTGGT------------GCTGGTATCACTGATAAAGGAGAAGTCCCG---AATGGCTACAACGTCTCCAGATCA---ACCACAGAGGATTTCCCGCTCAGGCTGGAGTTGGCTGCTCCCTCCCAGACATCTGTGTACTTCTGTGCCAGCCAAAATACCGGGACACTATACAATGAGCAGTTCTTCGGGCCAGGGACACGGCTCACCGTGCTCG,T,T,F,TRBV6-6,TRBJ2-1,42,TGTGCCAGCCAAAATACCGGGACACTATACAATGAGCAGTTC,100.0,159,93.75,45,1,0,20095,TGTGCCAGCCAAAATACCGGGACACTATACAATGAGCAGTTC,CASQNTGTLYNEQF,1,D233\r\n",
      "M03592:61:000000000-AYPGW:1:1108:21088:20669,NNNNNNNNNNNNNNNNNNNNNNNNNNNNNNNNNNNNNNNNNNNNNNNNNNNNNNNNNNNNNNNNNNNNNNNNNNNNNNNNNNNNNNN---------------------NNNNNNNNNNNNNNNNNNNNNNNNNNNNNNNNACAGGGCCTTCAGTTCCTCTTTGAATACTTCAGT------------GAGACACAGAGAAACAAAGGAAACTTCCCT---GGTCGATTCTCAGGGCGCCAGTTC---TCTAACTCTCGCTCTGAGATGAATGTGAGCACCTTGGAGCTGGGGGACTCGGCCCTTTATCTTTGCGCCAGCAGCTCGGGACTAGCGGGTGACAATGAGCAGTTCTTCGGGCCAGGGACACGGCTCACCGTGCTAG,T,T,F,TRBV5-1,TRBJ2-1,42,TGCGCCAGCAGCTCGGGACTAGCGGGTGACAATGAGCAGTTC,100.0,167,95.74,45,8,8,14670,TGCGCCAGCAGCTCGGGACTAGCGGGTGACAATGAGCAGTTC,CASSSGLAGDNEQF,1,D233\r\n",
      "M03592:61:000000000-AYPGW:1:1103:6747:10447,NNNNNNNNNNNNNNNNNNNNNNNNNNNNNNNNNNNNNNNNNNNNNNNNNNNNNNNNNNNNNNNNNNNNNNNNNNNNNNNNNNNNNNN---------------------NNNNNNNNNNNNNNNNNNNNNNNNNNNNNNNNGCAAGGGCTGAGATTGATCTACTACTCACAGATA------------GTAAATGACTTTCAGAAAGGAGATATAGCT---GAAGGGTACAGCGTCTCTCGGGAG---AAGAAGGAATCCTTTCCTCTCACTGTGACATCGGCCCAAAAGAACCCGACAGCTTTCTATCTCTGTGCCAGTAGTAAGACTAGCGGGAGCTACGATGAGCAGTTCTTCGGGCCAGGGACACGGCTCTCAGTGCTGG,T,T,F,TRBV19,TRBJ2-1,42,TGTGCCAGTAGTAAGACTAGCGGGAGCTACGATGAGCAGTTC,100.0,163,87.76,43,8,0,5904,TGTGCCAGTAGTAAGACTAGCGGGAGCTACGATGAGCAGTTC,CASSKTSGSYDEQF,1,D233\r\n",
      "M03592:61:000000000-AYPGW:1:1104:23497:1936,NNNNNNNNNNNNNNNNNNNNNNNNNNNNNNNNNNNNNNNNNNNNNNNNNNNNNNNNNNNNNNNNNNNNNNNNNNNNNNNNNNNNNNN---------------------NNNNNNNNNNNNNNNNNNNNNNNNNNNNNNNNACAGAGCCTGACACTGATCGCAACTGCAAATCAGGGC---------TCTGAGGCCACATATGAGAGTGGATTTGTCATTGACAAGTTTCCCATCAGCCGCCCA---AACCTAACATTCTCAACTCTGACTGTGAGCAACATGAGCCCTGAAGACAGCAGCATATATCTCTGCAGCGTCGAGCAAAGAGACAATGAGCAGTTCTTCGGGCCAGGGACACGGCTCACCGTGCTCG,T,T,F,TRBV29-1,TRBJ2-1,33,TGCAGCGTCGAGCAAAGAGACAATGAGCAGTTC,98.83,169,93.62,44,1,0,12920,TGCAGCGTCGAGCAAAGAGACAATGAGCAGTTC,CSVEQRDNEQF,1,D233\r\n",
      "M03592:61:000000000-AYPGW:1:1101:9732:22441,NNNNNNNNNNNNNNNNNNNNNNNNNNNNNNNNNNNNNNNNNNNNNNNNNNNNNNNNNNNNNNNNNNNNNNNNNNNNNNNNNNNNNNN---------------------NNNNNNNNNNNNNNNNNNNNNNNNNNNNNNNNTCTGGGGCTACGGCTGATCTATTTCTCATATGAT------------GTTAAAATGAAAGAAAAAGGAGATATTCCT---GAGGGGTACAGTGTCTCTAGAGAG---AAGAAGGAGCGCTTCTCCCTGATTCTGGAGTCCGCCAGCACCAACCAGACATCTATGTACCTCTGTGCCAGCAGCCACCCTCTCGGGGGGATGGGGAGCTCTGGGGCCAACGTCCTGACTTTCGGGGCCGGCAGCAGGCTGACCGTACTGG,T,T,F,TRBV28,TRBJ2-6,57,TGTGCCAGCAGCCACCCTCTCGGGGGGATGGGGAGCTCTGGGGCCAACGTCCTGACT,100.0,161,98.11,52,10,10,12305,TGTGCCAGCAGCCACCCTCTCGGGGGGATGGGGAGCTCTGGGGCCAACGTCCTGACT,CASSHPLGGMGSSGANVLT,1,D233\r\n",
      "M03592:61:000000000-AYPGW:1:1104:22120:17471,NNNNNNNNNNNNNNNNNNNNNNNNNNNNNNNNNNNNNNNNNNNNNNNNNNNNNNNNNNNNNNNNNNNNNNNNNNNNNNNNNNNNNNN---------------------NNNNNNNNNNNNNNNNNNNNNNNNNNNNNNNNGCTGGGCTTAAGGCAGATCTACTATTCAATGAAT------------GTTGAGGTGACTGATAAGGGAGATGTTCCT---GAAGGGTACAAAGTCTCTCGAAAA---GAGAAGAGGAATTTCCCCCTGATCCTGGAGTCGCCCAGCCCCAACCAGACCTCTCTGTACTTCTGTGCCAGCAAGTTCCAGGAGGGACTAGCGGGGTTCAATGAGCAGTTCTTCGGGCCAGGGACACGGCTCACCGCGCTAG,T,T,F,TRBV27,TRBJ2-1,48,TGTGCCAGCAAGTTCCAGGAGGGACTAGCGGGGTTCAATGAGCAGTTC,98.78,162,91.67,44,2,2,9786,TGTGCCAGCAAGTTCCAGGAGGGACTAGCGGGGTTCAATGAGCAGTTC,CASKFQEGLAGFNEQF,1,D233\r\n",
      "M03592:61:000000000-AYPGW:1:1103:12561:9282,NNNNNNNNNNNNNNNNNNNNNNNNNNNNNNNNNNNNNNNNNNNNNNNNNNNNNNNNNNNNNNNNNNNNNNNNNNNNNNNNNNNNNNN---------------------NNNNNNNNNNNNNNNNNNNNNNNNNNNNNNNNCATGGGGCTGAGGCTGATTCATTACTCAGTTGGT------------GCTGGTATCACTGACCAAGGAGAAGCCCCC---AATGGCTACAATGTCTCCAGATCA---ACCACAGAGGATTTCCCGCTCAGGCTGCTGTCGGCTGCTCCCTCCCAGACATCTGTGTACTTCTGTGCCAGCAGTTTACAGGGGGGGGCTTACTATGGCTACACCTTCGGTTCGGGGACCAGGTTAACCGTTGTAG,T,T,F,TRBV6-5,TRBJ1-2,42,TGTGCCAGCAGTTTACAGGGGGGGGCTTACTATGGCTACACC,99.39,162,97.92,47,1,0,18420,TGTGCCAGCAGTTTACAGGGGGGGGCTTACTATGGCTACACC,CASSLQGGAYYGYT,1,D233\r\n",
      "M03592:61:000000000-AYPGW:1:1101:15268:5303,NNNNNNNNNNNNNNNNNNNNNNNNNNNNNNNNNNNNNNNNNNNNNNNNNNNNNNNNNNNNNNNNNNNNNNNNNNNNNNNNNNNNNNN---------------------NNNNNNNNNNNNNNNNNNNNNNNNNNNNNNNNGCAGGGCCTGGAGTTTTTAATTTACTTCCAAGGC------------AACAGTGCACCAGACAAATCAGGGCTGCCCAGTGATCGCTTCTCTGCAGAGAGGACT---GGGGAATCCGTCTCCACTCTGACGATCCAGCGCACACAGCAGGAGGACTCGGCCGTGTATCTCTGTGCCAGCAGCTTAGGTCAGAAAAAAAGGAAACACCATATATTTTGGAGAGGGAAGTTGGCTCACTGTTGTAG,F,F,F,TRBV7-2,TRBJ1-3,43,TGTGCCAGCAGCTTAGGTCAGAAAAAAAGGAAACACCATATAT,100.0,171,95.83,46,6,0,20515,TGTGCCAGCAGCTTAGGTCAGAAAAAAAGGAAACACCATATAT,CASSLGQKKRKHHI,1,D233\r\n",
      "M03592:61:000000000-AYPGW:1:1114:17662:11571,NNNNNNNNNNNNNNNNNNNNNNNNNNNNNNNNNNNNNNNNNNNNNNNNNNNNNNNNNNNNNNNNNNNNNNNNNNNNNNNNNNNNNNN---------------------NNNNNNNNNNNNNNNNNNNNNNNNNNNNNNNNGCTGGGCTTAAGGCAGATCTACTATTCAATGAAT------------GTTGAGGTGACTGATAAGGGAGATGTTCCT---GAAGGGTACAAAGTCTCTCGAAAA---GAGAAGAGGAATTTCCCCCTGATCCTGGAGTCGCCCAGCCCCAACCAGACCTCTCTGTACTTCTGTGCCAGCAGTTTCAGCGGGAGCGGTTCCTTCAATGAGCAGTTCTTCGGGCCAGGGACACGGCTCACCGTGCTAG,T,T,F,TRBV27,TRBJ2-1,45,TGTGCCAGCAGTTTCAGCGGGAGCGGTTCCTTCAATGAGCAGTTC,100.0,164,96.0,48,1,2,10106,TGTGCCAGCAGTTTCAGCGGGAGCGGTTCCTTCAATGAGCAGTTC,CASSFSGSGSFNEQF,1,D233\r\n"
     ]
    }
   ],
   "source": [
    "!head ../sample_input_files/D233.changeo_small_fixed.tsv"
   ]
  },
  {
   "cell_type": "code",
   "execution_count": 6,
   "metadata": {},
   "outputs": [
    {
     "name": "stdout",
     "output_type": "stream",
     "text": [
      "../sample_input_files/D280.changeo_small.tsv looks like a changeo file\n",
      "../sample_input_files/D280.changeo_small_fixed.tsv looks like a changeo file\n"
     ]
    },
    {
     "ename": "KeyError",
     "evalue": "'SAMPLE'",
     "output_type": "error",
     "traceback": [
      "\u001b[0;31m---------------------------------------------------------------------------\u001b[0m",
      "\u001b[0;31mTypeError\u001b[0m                                 Traceback (most recent call last)",
      "\u001b[0;32m~/.virtualenvs/PyClonal-RT_r4YkF/lib/python3.6/site-packages/pandas/core/indexes/base.py\u001b[0m in \u001b[0;36mget_value\u001b[0;34m(self, series, key)\u001b[0m\n\u001b[1;32m   3123\u001b[0m             \u001b[0;32mtry\u001b[0m\u001b[0;34m:\u001b[0m\u001b[0;34m\u001b[0m\u001b[0m\n\u001b[0;32m-> 3124\u001b[0;31m                 \u001b[0;32mreturn\u001b[0m \u001b[0mlibindex\u001b[0m\u001b[0;34m.\u001b[0m\u001b[0mget_value_box\u001b[0m\u001b[0;34m(\u001b[0m\u001b[0ms\u001b[0m\u001b[0;34m,\u001b[0m \u001b[0mkey\u001b[0m\u001b[0;34m)\u001b[0m\u001b[0;34m\u001b[0m\u001b[0m\n\u001b[0m\u001b[1;32m   3125\u001b[0m             \u001b[0;32mexcept\u001b[0m \u001b[0mIndexError\u001b[0m\u001b[0;34m:\u001b[0m\u001b[0;34m\u001b[0m\u001b[0m\n",
      "\u001b[0;32mpandas/_libs/index.pyx\u001b[0m in \u001b[0;36mpandas._libs.index.get_value_box\u001b[0;34m()\u001b[0m\n",
      "\u001b[0;32mpandas/_libs/index.pyx\u001b[0m in \u001b[0;36mpandas._libs.index.get_value_box\u001b[0;34m()\u001b[0m\n",
      "\u001b[0;31mTypeError\u001b[0m: 'str' object cannot be interpreted as an integer",
      "\nDuring handling of the above exception, another exception occurred:\n",
      "\u001b[0;31mKeyError\u001b[0m                                  Traceback (most recent call last)",
      "\u001b[0;32m<ipython-input-6-57162d9375b9>\u001b[0m in \u001b[0;36m<module>\u001b[0;34m()\u001b[0m\n\u001b[0;32m----> 1\u001b[0;31m \u001b[0mclone_df\u001b[0m\u001b[0;34m,\u001b[0m \u001b[0mseq_df\u001b[0m \u001b[0;34m=\u001b[0m \u001b[0mcombineFiles\u001b[0m\u001b[0;34m(\u001b[0m\u001b[0mglob\u001b[0m\u001b[0;34m.\u001b[0m\u001b[0mglob\u001b[0m\u001b[0;34m(\u001b[0m\u001b[0;34m'../sample_input_files/D*.tsv'\u001b[0m\u001b[0;34m)\u001b[0m\u001b[0;34m)\u001b[0m\u001b[0;34m\u001b[0m\u001b[0m\n\u001b[0m",
      "\u001b[0;32m~/src/PyClonal/pyclonal/io.py\u001b[0m in \u001b[0;36mcombineFiles\u001b[0;34m(filenames, fmt, fmt_cols)\u001b[0m\n\u001b[1;32m     84\u001b[0m \u001b[0;32mdef\u001b[0m \u001b[0mcombineFiles\u001b[0m\u001b[0;34m(\u001b[0m\u001b[0mfilenames\u001b[0m\u001b[0;34m,\u001b[0m \u001b[0mfmt\u001b[0m\u001b[0;34m=\u001b[0m\u001b[0;32mNone\u001b[0m\u001b[0;34m,\u001b[0m \u001b[0mfmt_cols\u001b[0m\u001b[0;34m=\u001b[0m\u001b[0;32mNone\u001b[0m\u001b[0;34m)\u001b[0m\u001b[0;34m:\u001b[0m\u001b[0;34m\u001b[0m\u001b[0m\n\u001b[1;32m     85\u001b[0m     \u001b[0mreader\u001b[0m \u001b[0;34m=\u001b[0m \u001b[0mFmtReader\u001b[0m\u001b[0;34m(\u001b[0m\u001b[0mfilenames\u001b[0m\u001b[0;34m,\u001b[0m \u001b[0mfmt\u001b[0m\u001b[0;34m,\u001b[0m \u001b[0mfmt_cols\u001b[0m\u001b[0;34m)\u001b[0m\u001b[0;34m\u001b[0m\u001b[0m\n\u001b[0;32m---> 86\u001b[0;31m     \u001b[0;32mreturn\u001b[0m \u001b[0mreader\u001b[0m\u001b[0;34m.\u001b[0m\u001b[0mprocess_files\u001b[0m\u001b[0;34m(\u001b[0m\u001b[0;34m)\u001b[0m\u001b[0;34m\u001b[0m\u001b[0m\n\u001b[0m",
      "\u001b[0;32m~/src/PyClonal/pyclonal/io.py\u001b[0m in \u001b[0;36mprocess_files\u001b[0;34m(self)\u001b[0m\n\u001b[1;32m     29\u001b[0m \u001b[0;34m\u001b[0m\u001b[0m\n\u001b[1;32m     30\u001b[0m         \u001b[0;32mfor\u001b[0m \u001b[0mfilename\u001b[0m \u001b[0;32min\u001b[0m \u001b[0mself\u001b[0m\u001b[0;34m.\u001b[0m\u001b[0mfilenames\u001b[0m\u001b[0;34m:\u001b[0m\u001b[0;34m\u001b[0m\u001b[0m\n\u001b[0;32m---> 31\u001b[0;31m             \u001b[0mself\u001b[0m\u001b[0;34m.\u001b[0m\u001b[0mparse_file\u001b[0m\u001b[0;34m(\u001b[0m\u001b[0mfilename\u001b[0m\u001b[0;34m,\u001b[0m \u001b[0msequence_indices\u001b[0m\u001b[0;34m,\u001b[0m \u001b[0msamples\u001b[0m\u001b[0;34m)\u001b[0m\u001b[0;34m\u001b[0m\u001b[0m\n\u001b[0m\u001b[1;32m     32\u001b[0m \u001b[0;34m\u001b[0m\u001b[0m\n\u001b[1;32m     33\u001b[0m         \u001b[0msamples\u001b[0m \u001b[0;34m=\u001b[0m \u001b[0msorted\u001b[0m\u001b[0;34m(\u001b[0m\u001b[0msamples\u001b[0m\u001b[0;34m.\u001b[0m\u001b[0mitems\u001b[0m\u001b[0;34m(\u001b[0m\u001b[0;34m)\u001b[0m\u001b[0;34m)\u001b[0m\u001b[0;34m\u001b[0m\u001b[0m\n",
      "\u001b[0;32m~/src/PyClonal/pyclonal/io.py\u001b[0m in \u001b[0;36mparse_file\u001b[0;34m(self, filename, sequence_indices, samples)\u001b[0m\n\u001b[1;32m     67\u001b[0m \u001b[0;34m\u001b[0m\u001b[0m\n\u001b[1;32m     68\u001b[0m         \u001b[0;32mfor\u001b[0m \u001b[0m_\u001b[0m\u001b[0;34m,\u001b[0m\u001b[0mrow\u001b[0m \u001b[0;32min\u001b[0m \u001b[0mdf\u001b[0m\u001b[0;34m.\u001b[0m\u001b[0miterrows\u001b[0m\u001b[0;34m(\u001b[0m\u001b[0;34m)\u001b[0m\u001b[0;34m:\u001b[0m\u001b[0;34m\u001b[0m\u001b[0m\n\u001b[0;32m---> 69\u001b[0;31m             \u001b[0msample_name\u001b[0m \u001b[0;34m=\u001b[0m \u001b[0mparser\u001b[0m\u001b[0;34m.\u001b[0m\u001b[0mgetSample\u001b[0m\u001b[0;34m(\u001b[0m\u001b[0mrow\u001b[0m\u001b[0;34m)\u001b[0m\u001b[0;34m\u001b[0m\u001b[0m\n\u001b[0m\u001b[1;32m     70\u001b[0m             \u001b[0;32mif\u001b[0m \u001b[0msample_name\u001b[0m \u001b[0;32mnot\u001b[0m \u001b[0;32min\u001b[0m \u001b[0msamples\u001b[0m\u001b[0;34m:\u001b[0m\u001b[0;34m\u001b[0m\u001b[0m\n\u001b[1;32m     71\u001b[0m                 \u001b[0msamples\u001b[0m\u001b[0;34m[\u001b[0m\u001b[0msample_name\u001b[0m\u001b[0;34m]\u001b[0m \u001b[0;34m=\u001b[0m \u001b[0;34m{\u001b[0m\u001b[0;34m\"Sample\"\u001b[0m\u001b[0;34m:\u001b[0m \u001b[0msample_name\u001b[0m\u001b[0;34m}\u001b[0m\u001b[0;34m\u001b[0m\u001b[0m\n",
      "\u001b[0;32m~/src/PyClonal/pyclonal/parser.py\u001b[0m in \u001b[0;36mgetSample\u001b[0;34m(self, row)\u001b[0m\n\u001b[1;32m     62\u001b[0m         \u001b[0;32mif\u001b[0m \u001b[0mself\u001b[0m\u001b[0;34m.\u001b[0m\u001b[0msample\u001b[0m \u001b[0;32mis\u001b[0m \u001b[0;32mNone\u001b[0m\u001b[0;34m:\u001b[0m\u001b[0;34m\u001b[0m\u001b[0m\n\u001b[1;32m     63\u001b[0m             \u001b[0;32mreturn\u001b[0m \u001b[0mos\u001b[0m\u001b[0;34m.\u001b[0m\u001b[0mpath\u001b[0m\u001b[0;34m.\u001b[0m\u001b[0msplitext\u001b[0m\u001b[0;34m(\u001b[0m\u001b[0mos\u001b[0m\u001b[0;34m.\u001b[0m\u001b[0mpath\u001b[0m\u001b[0;34m.\u001b[0m\u001b[0mbasename\u001b[0m\u001b[0;34m(\u001b[0m\u001b[0mself\u001b[0m\u001b[0;34m.\u001b[0m\u001b[0m_filename\u001b[0m\u001b[0;34m)\u001b[0m\u001b[0;34m)\u001b[0m\u001b[0;34m[\u001b[0m\u001b[0;36m0\u001b[0m\u001b[0;34m]\u001b[0m\u001b[0;34m\u001b[0m\u001b[0m\n\u001b[0;32m---> 64\u001b[0;31m         \u001b[0;32mreturn\u001b[0m \u001b[0mrow\u001b[0m\u001b[0;34m[\u001b[0m\u001b[0mself\u001b[0m\u001b[0;34m.\u001b[0m\u001b[0msample\u001b[0m\u001b[0;34m]\u001b[0m\u001b[0;34m\u001b[0m\u001b[0m\n\u001b[0m\u001b[1;32m     65\u001b[0m \u001b[0;34m\u001b[0m\u001b[0m\n\u001b[1;32m     66\u001b[0m \u001b[0;34m\u001b[0m\u001b[0m\n",
      "\u001b[0;32m~/.virtualenvs/PyClonal-RT_r4YkF/lib/python3.6/site-packages/pandas/core/series.py\u001b[0m in \u001b[0;36m__getitem__\u001b[0;34m(self, key)\u001b[0m\n\u001b[1;32m    765\u001b[0m         \u001b[0mkey\u001b[0m \u001b[0;34m=\u001b[0m \u001b[0mcom\u001b[0m\u001b[0;34m.\u001b[0m\u001b[0m_apply_if_callable\u001b[0m\u001b[0;34m(\u001b[0m\u001b[0mkey\u001b[0m\u001b[0;34m,\u001b[0m \u001b[0mself\u001b[0m\u001b[0;34m)\u001b[0m\u001b[0;34m\u001b[0m\u001b[0m\n\u001b[1;32m    766\u001b[0m         \u001b[0;32mtry\u001b[0m\u001b[0;34m:\u001b[0m\u001b[0;34m\u001b[0m\u001b[0m\n\u001b[0;32m--> 767\u001b[0;31m             \u001b[0mresult\u001b[0m \u001b[0;34m=\u001b[0m \u001b[0mself\u001b[0m\u001b[0;34m.\u001b[0m\u001b[0mindex\u001b[0m\u001b[0;34m.\u001b[0m\u001b[0mget_value\u001b[0m\u001b[0;34m(\u001b[0m\u001b[0mself\u001b[0m\u001b[0;34m,\u001b[0m \u001b[0mkey\u001b[0m\u001b[0;34m)\u001b[0m\u001b[0;34m\u001b[0m\u001b[0m\n\u001b[0m\u001b[1;32m    768\u001b[0m \u001b[0;34m\u001b[0m\u001b[0m\n\u001b[1;32m    769\u001b[0m             \u001b[0;32mif\u001b[0m \u001b[0;32mnot\u001b[0m \u001b[0mis_scalar\u001b[0m\u001b[0;34m(\u001b[0m\u001b[0mresult\u001b[0m\u001b[0;34m)\u001b[0m\u001b[0;34m:\u001b[0m\u001b[0;34m\u001b[0m\u001b[0m\n",
      "\u001b[0;32m~/.virtualenvs/PyClonal-RT_r4YkF/lib/python3.6/site-packages/pandas/core/indexes/base.py\u001b[0m in \u001b[0;36mget_value\u001b[0;34m(self, series, key)\u001b[0m\n\u001b[1;32m   3130\u001b[0m                     \u001b[0;32mraise\u001b[0m \u001b[0mInvalidIndexError\u001b[0m\u001b[0;34m(\u001b[0m\u001b[0mkey\u001b[0m\u001b[0;34m)\u001b[0m\u001b[0;34m\u001b[0m\u001b[0m\n\u001b[1;32m   3131\u001b[0m                 \u001b[0;32melse\u001b[0m\u001b[0;34m:\u001b[0m\u001b[0;34m\u001b[0m\u001b[0m\n\u001b[0;32m-> 3132\u001b[0;31m                     \u001b[0;32mraise\u001b[0m \u001b[0me1\u001b[0m\u001b[0;34m\u001b[0m\u001b[0m\n\u001b[0m\u001b[1;32m   3133\u001b[0m             \u001b[0;32mexcept\u001b[0m \u001b[0mException\u001b[0m\u001b[0;34m:\u001b[0m  \u001b[0;31m# pragma: no cover\u001b[0m\u001b[0;34m\u001b[0m\u001b[0m\n\u001b[1;32m   3134\u001b[0m                 \u001b[0;32mraise\u001b[0m \u001b[0me1\u001b[0m\u001b[0;34m\u001b[0m\u001b[0m\n",
      "\u001b[0;32m~/.virtualenvs/PyClonal-RT_r4YkF/lib/python3.6/site-packages/pandas/core/indexes/base.py\u001b[0m in \u001b[0;36mget_value\u001b[0;34m(self, series, key)\u001b[0m\n\u001b[1;32m   3116\u001b[0m         \u001b[0;32mtry\u001b[0m\u001b[0;34m:\u001b[0m\u001b[0;34m\u001b[0m\u001b[0m\n\u001b[1;32m   3117\u001b[0m             return self._engine.get_value(s, k,\n\u001b[0;32m-> 3118\u001b[0;31m                                           tz=getattr(series.dtype, 'tz', None))\n\u001b[0m\u001b[1;32m   3119\u001b[0m         \u001b[0;32mexcept\u001b[0m \u001b[0mKeyError\u001b[0m \u001b[0;32mas\u001b[0m \u001b[0me1\u001b[0m\u001b[0;34m:\u001b[0m\u001b[0;34m\u001b[0m\u001b[0m\n\u001b[1;32m   3120\u001b[0m             \u001b[0;32mif\u001b[0m \u001b[0mlen\u001b[0m\u001b[0;34m(\u001b[0m\u001b[0mself\u001b[0m\u001b[0;34m)\u001b[0m \u001b[0;34m>\u001b[0m \u001b[0;36m0\u001b[0m \u001b[0;32mand\u001b[0m \u001b[0mself\u001b[0m\u001b[0;34m.\u001b[0m\u001b[0minferred_type\u001b[0m \u001b[0;32min\u001b[0m \u001b[0;34m[\u001b[0m\u001b[0;34m'integer'\u001b[0m\u001b[0;34m,\u001b[0m \u001b[0;34m'boolean'\u001b[0m\u001b[0;34m]\u001b[0m\u001b[0;34m:\u001b[0m\u001b[0;34m\u001b[0m\u001b[0m\n",
      "\u001b[0;32mpandas/_libs/index.pyx\u001b[0m in \u001b[0;36mpandas._libs.index.IndexEngine.get_value\u001b[0;34m()\u001b[0m\n",
      "\u001b[0;32mpandas/_libs/index.pyx\u001b[0m in \u001b[0;36mpandas._libs.index.IndexEngine.get_value\u001b[0;34m()\u001b[0m\n",
      "\u001b[0;32mpandas/_libs/index.pyx\u001b[0m in \u001b[0;36mpandas._libs.index.IndexEngine.get_loc\u001b[0;34m()\u001b[0m\n",
      "\u001b[0;32mpandas/_libs/hashtable_class_helper.pxi\u001b[0m in \u001b[0;36mpandas._libs.hashtable.PyObjectHashTable.get_item\u001b[0;34m()\u001b[0m\n",
      "\u001b[0;32mpandas/_libs/hashtable_class_helper.pxi\u001b[0m in \u001b[0;36mpandas._libs.hashtable.PyObjectHashTable.get_item\u001b[0;34m()\u001b[0m\n",
      "\u001b[0;31mKeyError\u001b[0m: 'SAMPLE'"
     ]
    }
   ],
   "source": [
    "clone_df, seq_df = combineFiles(glob.glob('../sample_input_files/D*.tsv'))"
   ]
  },
  {
   "cell_type": "code",
   "execution_count": null,
   "metadata": {
    "scrolled": true
   },
   "outputs": [],
   "source": [
    "seq_df"
   ]
  },
  {
   "cell_type": "code",
   "execution_count": null,
   "metadata": {
    "scrolled": true
   },
   "outputs": [],
   "source": [
    "clone_df"
   ]
  },
  {
   "cell_type": "markdown",
   "metadata": {},
   "source": [
    "## `MIXCR` format"
   ]
  },
  {
   "cell_type": "code",
   "execution_count": null,
   "metadata": {},
   "outputs": [],
   "source": [
    "ls -lah ../sample_input_files/ten_mixcr_sample_files/"
   ]
  },
  {
   "cell_type": "code",
   "execution_count": null,
   "metadata": {},
   "outputs": [],
   "source": [
    "clone_df, seq_df = combineFiles(glob.glob('../sample_input_files/ten_mixcr_sample_files/p*.txt'))"
   ]
  },
  {
   "cell_type": "code",
   "execution_count": null,
   "metadata": {},
   "outputs": [],
   "source": [
    "clone_df"
   ]
  },
  {
   "cell_type": "code",
   "execution_count": null,
   "metadata": {
    "scrolled": true
   },
   "outputs": [],
   "source": [
    "seq_df"
   ]
  },
  {
   "cell_type": "markdown",
   "metadata": {},
   "source": [
    "## `VDJtools` format"
   ]
  },
  {
   "cell_type": "code",
   "execution_count": null,
   "metadata": {},
   "outputs": [],
   "source": [
    "clone_df, seq_df = combineFiles(glob.glob('../sample_input_files/vdjtools_format.txt'))"
   ]
  },
  {
   "cell_type": "code",
   "execution_count": null,
   "metadata": {},
   "outputs": [],
   "source": [
    "clone_df"
   ]
  },
  {
   "cell_type": "code",
   "execution_count": null,
   "metadata": {},
   "outputs": [],
   "source": [
    "seq_df"
   ]
  },
  {
   "cell_type": "markdown",
   "metadata": {},
   "source": [
    "## Mixing diffrent formats"
   ]
  },
  {
   "cell_type": "code",
   "execution_count": null,
   "metadata": {
    "scrolled": true
   },
   "outputs": [],
   "source": [
    "clone_df, seq_df = combineFiles(['../sample_input_files/D233.changeo_small.tsv',\n",
    "                                '../sample_input_files/vdjtools_format.txt'])"
   ]
  },
  {
   "cell_type": "code",
   "execution_count": null,
   "metadata": {},
   "outputs": [],
   "source": [
    "clone_df"
   ]
  },
  {
   "cell_type": "code",
   "execution_count": null,
   "metadata": {},
   "outputs": [],
   "source": [
    "seq_df"
   ]
  },
  {
   "cell_type": "markdown",
   "metadata": {},
   "source": [
    "## `ImmunoSeq` format"
   ]
  },
  {
   "cell_type": "code",
   "execution_count": null,
   "metadata": {},
   "outputs": [],
   "source": [
    "clone_df, seq_df = combineFiles(glob.glob('../sample_input_files/Sample_IMMUNOSEQ_files/*.tsv'))"
   ]
  },
  {
   "cell_type": "code",
   "execution_count": null,
   "metadata": {},
   "outputs": [],
   "source": [
    "clone_df"
   ]
  },
  {
   "cell_type": "code",
   "execution_count": null,
   "metadata": {
    "scrolled": true
   },
   "outputs": [],
   "source": [
    "seq_df"
   ]
  }
 ],
 "metadata": {
  "kernelspec": {
   "display_name": "Python 3",
   "language": "python",
   "name": "python3"
  },
  "language_info": {
   "codemirror_mode": {
    "name": "ipython",
    "version": 3
   },
   "file_extension": ".py",
   "mimetype": "text/x-python",
   "name": "python",
   "nbconvert_exporter": "python",
   "pygments_lexer": "ipython3",
   "version": "3.6.5"
  }
 },
 "nbformat": 4,
 "nbformat_minor": 2
}
