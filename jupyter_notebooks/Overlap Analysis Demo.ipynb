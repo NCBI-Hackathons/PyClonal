{
 "cells": [
  {
   "cell_type": "markdown",
   "metadata": {},
   "source": [
    "## Quick Start Demo -- Calculating Overlap \n",
    "### Load the required pacakges for this notebook ! \n",
    "None of this code needs to be changed. All places where changes are needed are indicated as Steps throughout this notebook."
   ]
  },
  {
   "cell_type": "code",
   "execution_count": 1,
   "metadata": {},
   "outputs": [],
   "source": [
    "%%capture\n",
    "%matplotlib inline\n",
    "\n",
    "import itertools\n",
    "import os\n",
    "\n",
    "import pandas as pd\n",
    "from scipy.spatial.distance import cosine, jaccard\n",
    "import seaborn as sns\n",
    "from pyclonal.io import combineFiles\n",
    "\n",
    "from IPython.html.widgets import interact"
   ]
  },
  {
   "cell_type": "markdown",
   "metadata": {},
   "source": [
    "# Step 1 : Change file path to input your data"
   ]
  },
  {
   "cell_type": "code",
   "execution_count": 2,
   "metadata": {},
   "outputs": [
    {
     "name": "stdout",
     "output_type": "stream",
     "text": [
      "../sample_input_files/D233.changeo_small_demo.tsv looks like a changeo file\n",
      "../sample_input_files/D255.changeo_small_demo.tsv looks like a changeo file\n",
      "../sample_input_files/D280.changeo_small_demo.tsv looks like a changeo file\n",
      "../sample_input_files/D287.changeo_small_demo.tsv looks like a changeo file\n",
      "../sample_input_files/D299.changeo_small_demo.tsv looks like a changeo file\n"
     ]
    }
   ],
   "source": [
    "#combine input files\n",
    "directory = \"../sample_input_files/\"\n",
    "pattern = \"D*.changeo_small_demo.tsv\"\n",
    "\n",
    "df, seq_df = combineFiles(directory,pattern)\n"
   ]
  },
  {
   "cell_type": "markdown",
   "metadata": {},
   "source": [
    "# Step 2 : Change file path to input your metadata that described your samples"
   ]
  },
  {
   "cell_type": "code",
   "execution_count": 3,
   "metadata": {},
   "outputs": [],
   "source": [
    "metadata=pd.read_csv('../sample_input_files/metadata_demo.csv',index_col='filename')"
   ]
  },
  {
   "cell_type": "code",
   "execution_count": 4,
   "metadata": {},
   "outputs": [
    {
     "data": {
      "text/html": [
       "<div>\n",
       "<style scoped>\n",
       "    .dataframe tbody tr th:only-of-type {\n",
       "        vertical-align: middle;\n",
       "    }\n",
       "\n",
       "    .dataframe tbody tr th {\n",
       "        vertical-align: top;\n",
       "    }\n",
       "\n",
       "    .dataframe thead th {\n",
       "        text-align: right;\n",
       "    }\n",
       "</style>\n",
       "<table border=\"1\" class=\"dataframe\">\n",
       "  <thead>\n",
       "    <tr style=\"text-align: right;\">\n",
       "      <th></th>\n",
       "      <th>patient_id</th>\n",
       "      <th>tissue_id</th>\n",
       "      <th>subset_1</th>\n",
       "    </tr>\n",
       "    <tr>\n",
       "      <th>filename</th>\n",
       "      <th></th>\n",
       "      <th></th>\n",
       "      <th></th>\n",
       "    </tr>\n",
       "  </thead>\n",
       "  <tbody>\n",
       "    <tr>\n",
       "      <th>D233_1</th>\n",
       "      <td>D233</td>\n",
       "      <td>Thymus</td>\n",
       "      <td>Naive</td>\n",
       "    </tr>\n",
       "    <tr>\n",
       "      <th>D233_2</th>\n",
       "      <td>D233</td>\n",
       "      <td>Spleen</td>\n",
       "      <td>Naive</td>\n",
       "    </tr>\n",
       "    <tr>\n",
       "      <th>D233_3</th>\n",
       "      <td>D233</td>\n",
       "      <td>BM</td>\n",
       "      <td>Naive</td>\n",
       "    </tr>\n",
       "    <tr>\n",
       "      <th>D233_4</th>\n",
       "      <td>D233</td>\n",
       "      <td>Bld</td>\n",
       "      <td>Naive</td>\n",
       "    </tr>\n",
       "    <tr>\n",
       "      <th>D233_5</th>\n",
       "      <td>D233</td>\n",
       "      <td>Thymus</td>\n",
       "      <td>Memory</td>\n",
       "    </tr>\n",
       "  </tbody>\n",
       "</table>\n",
       "</div>"
      ],
      "text/plain": [
       "         patient_id tissue_id subset_1\n",
       "filename                              \n",
       "D233_1         D233    Thymus    Naive\n",
       "D233_2         D233    Spleen    Naive\n",
       "D233_3         D233        BM    Naive\n",
       "D233_4         D233       Bld    Naive\n",
       "D233_5         D233    Thymus   Memory"
      ]
     },
     "execution_count": 4,
     "metadata": {},
     "output_type": "execute_result"
    }
   ],
   "source": [
    "metadata.head()"
   ]
  },
  {
   "cell_type": "code",
   "execution_count": 5,
   "metadata": {},
   "outputs": [],
   "source": [
    "merged_df=df.join(metadata)"
   ]
  },
  {
   "cell_type": "markdown",
   "metadata": {},
   "source": [
    "# Step 3: Specify which sample group you want to look at first"
   ]
  },
  {
   "cell_type": "markdown",
   "metadata": {},
   "source": [
    "In this case it is the patient that we are specifying"
   ]
  },
  {
   "cell_type": "code",
   "execution_count": 6,
   "metadata": {},
   "outputs": [],
   "source": [
    "patient='D233'\n",
    "filtered_df=merged_df[merged_df['patient_id']==patient] #change here\n",
    "filtered_df = filtered_df.iloc[:, :-len(metadata.columns)]"
   ]
  },
  {
   "cell_type": "code",
   "execution_count": 7,
   "metadata": {},
   "outputs": [],
   "source": [
    "res_df = {}\n",
    "for l1, l2 in itertools.combinations(filtered_df.index, 2):\n",
    "    res_df.setdefault(l2, {})[l1] = res_df.setdefault(l1, {})[l2] = 1 - cosine(\n",
    "        list(filtered_df.loc[l1].values),\n",
    "        list(filtered_df.loc[l2].values),\n",
    "    )\n",
    "        \n",
    "cosine_data=pd.DataFrame(res_df).fillna(1)  #matrix with cosine differences"
   ]
  },
  {
   "cell_type": "code",
   "execution_count": 8,
   "metadata": {},
   "outputs": [],
   "source": [
    "res_df = {}\n",
    "for l1, l2 in itertools.combinations(filtered_df.index, 2):\n",
    "    res_df.setdefault(l2, {})[l1] = res_df.setdefault(l1, {})[l2] =jaccard(\n",
    "        list(filtered_df.loc[l1].values),\n",
    "        list(filtered_df.loc[l2].values),\n",
    "    )\n",
    "        \n",
    "jaccard_data=pd.DataFrame(res_df).fillna(1)  #matrix with jaccard differences"
   ]
  },
  {
   "cell_type": "code",
   "execution_count": 9,
   "metadata": {},
   "outputs": [],
   "source": [
    "def plot_heatmap(method):\n",
    "    METRIC = method\n",
    "    if METRIC=='cosine':data=cosine_data\n",
    "    if METRIC=='jaccard':data=jaccard_data\n",
    "    \n",
    "    \n",
    "    #fig, ax = plt.subplots(figsize=(12, 12))\n",
    "    cmap = sns.diverging_palette(220, 10, as_cmap=True)\n",
    "    sns.clustermap(data=data,cmap=cmap)"
   ]
  },
  {
   "cell_type": "code",
   "execution_count": 10,
   "metadata": {},
   "outputs": [
    {
     "data": {
      "application/vnd.jupyter.widget-view+json": {
       "model_id": "9465732680534d35b80f6441fe052e49",
       "version_major": 2,
       "version_minor": 0
      },
      "text/plain": [
       "interactive(children=(Dropdown(description='method', options=('jaccard', 'cosine'), value='jaccard'), Output()…"
      ]
     },
     "metadata": {},
     "output_type": "display_data"
    },
    {
     "data": {
      "text/plain": [
       "<function __main__.plot_heatmap(method)>"
      ]
     },
     "execution_count": 10,
     "metadata": {},
     "output_type": "execute_result"
    }
   ],
   "source": [
    "interact(plot_heatmap, method=['jaccard', 'cosine'])"
   ]
  },
  {
   "cell_type": "code",
   "execution_count": null,
   "metadata": {},
   "outputs": [],
   "source": []
  }
 ],
 "metadata": {
  "kernelspec": {
   "display_name": "Python 3",
   "language": "python",
   "name": "python3"
  },
  "language_info": {
   "codemirror_mode": {
    "name": "ipython",
    "version": 3
   },
   "file_extension": ".py",
   "mimetype": "text/x-python",
   "name": "python",
   "nbconvert_exporter": "python",
   "pygments_lexer": "ipython3",
   "version": "3.6.4"
  }
 },
 "nbformat": 4,
 "nbformat_minor": 2
}
