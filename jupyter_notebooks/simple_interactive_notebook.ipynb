{
 "cells": [
  {
   "cell_type": "code",
   "execution_count": 1,
   "metadata": {},
   "outputs": [
    {
     "data": {
      "application/vnd.jupyter.widget-view+json": {
       "model_id": "8fb98b05c7494f749e240dad1aab7b93",
       "version_major": 2,
       "version_minor": 0
      },
      "text/plain": [
       "VBox(children=(Dropdown(description='Commodity', options=('beans', 'corn'), value='beans'), FigureWidget({\n",
       "   …"
      ]
     },
     "metadata": {},
     "output_type": "display_data"
    }
   ],
   "source": [
    "import pandas as pd\n",
    "import plotly.graph_objs as go\n",
    "import ipywidgets as widgets\n",
    "\n",
    "df = pd.DataFrame({'cmdty' : ['beans', 'beans', 'beans', 'corn', 'corn', 'corn'],\n",
    "                'month' : [1, 2, 3, 1, 2, 3],\n",
    "                'value' : [10.5, 3.5, 8.0, 5.0, 8.75, 5.75]})\n",
    "\n",
    "items = df.cmdty.unique().tolist()\n",
    "\n",
    "cmdty = widgets.Dropdown(options=items,\n",
    "                    description='Commodity')\n",
    "\n",
    "def response(change):\n",
    "    c = cmdty.value\n",
    "    df_tmp = df[df.cmdty == c]\n",
    "    x0 = df_tmp['month'] # Useless here as x is equal for the 2 commodities\n",
    "    x1 = df_tmp['value']\n",
    "    fig.data[0].x = x0 # Useless here as x is equal for the 2 commodities\n",
    "    fig.data[0].y = x1\n",
    "\n",
    "fig = go.FigureWidget(data=[{'type' : 'scatter'}])\n",
    "\n",
    "cmdty.observe(response, names='value')\n",
    "display(widgets.VBox([cmdty, fig]))"
   ]
  }
 ],
 "metadata": {
  "kernelspec": {
   "display_name": "Python 3",
   "language": "python",
   "name": "python3"
  },
  "language_info": {
   "codemirror_mode": {
    "name": "ipython",
    "version": 3
   },
   "file_extension": ".py",
   "mimetype": "text/x-python",
   "name": "python",
   "nbconvert_exporter": "python",
   "pygments_lexer": "ipython3",
   "version": "3.6.5"
  }
 },
 "nbformat": 4,
 "nbformat_minor": 2
}
