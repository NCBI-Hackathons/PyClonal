{
 "cells": [
  {
   "cell_type": "code",
   "execution_count": 39,
   "metadata": {
    "collapsed": false,
    "deletable": true,
    "editable": true
   },
   "outputs": [
    {
     "data": {
      "text/html": [
       "<script>requirejs.config({paths: { 'plotly': ['https://cdn.plot.ly/plotly-latest.min']},});if(!window.Plotly) {{require(['plotly'],function(plotly) {window.Plotly=plotly;});}}</script>"
      ],
      "text/vnd.plotly.v1+html": [
       "<script>requirejs.config({paths: { 'plotly': ['https://cdn.plot.ly/plotly-latest.min']},});if(!window.Plotly) {{require(['plotly'],function(plotly) {window.Plotly=plotly;});}}</script>"
      ]
     },
     "metadata": {},
     "output_type": "display_data"
    }
   ],
   "source": [
    "%matplotlib inline\n",
    "\n",
    "import itertools\n",
    "import os\n",
    "\n",
    "import matplotlib\n",
    "import numpy as np\n",
    "import matplotlib.pyplot as plt\n",
    "import pandas as pd\n",
    "from scipy.spatial.distance import cosine, jaccard\n",
    "import seaborn as sns\n",
    "from pyclonal.io import combineFiles\n",
    "import glob\n",
    "from plotly.offline import init_notebook_mode, iplot\n",
    "import plotly.plotly as py\n",
    "import plotly.graph_objs as go\n",
    "from IPython.html.widgets import interact\n",
    "init_notebook_mode(connected=True)\n",
    "from plotly.offline import iplot"
   ]
  },
  {
   "cell_type": "code",
   "execution_count": 4,
   "metadata": {
    "collapsed": true,
    "deletable": true,
    "editable": true
   },
   "outputs": [],
   "source": []
  },
  {
   "cell_type": "code",
   "execution_count": 2,
   "metadata": {
    "collapsed": false,
    "deletable": true,
    "editable": true
   },
   "outputs": [
    {
     "name": "stdout",
     "output_type": "stream",
     "text": [
      "../sample_input_files/D280.changeo_small.tsv looks like a changeo file\n",
      "../sample_input_files/D233.changeo_small.tsv looks like a changeo file\n",
      "../sample_input_files/D255.changeo_small.tsv looks like a changeo file\n",
      "../sample_input_files/D299.changeo_small.tsv looks like a changeo file\n",
      "../sample_input_files/D287.changeo_small.tsv looks like a changeo file\n"
     ]
    }
   ],
   "source": [
    "#combine input files\n",
    "\n",
    "df, seq_df = combineFiles(glob.glob('../sample_input_files/D*.tsv'))\n"
   ]
  },
  {
   "cell_type": "code",
   "execution_count": null,
   "metadata": {
    "collapsed": true,
    "deletable": true,
    "editable": true
   },
   "outputs": [],
   "source": []
  },
  {
   "cell_type": "code",
   "execution_count": 3,
   "metadata": {
    "collapsed": false,
    "deletable": true,
    "editable": true
   },
   "outputs": [],
   "source": [
    "metadata=pd.read_csv('../sample_input_files/metadata_csv.txt',index_col='filename')"
   ]
  },
  {
   "cell_type": "code",
   "execution_count": 10,
   "metadata": {
    "collapsed": false,
    "deletable": true,
    "editable": true
   },
   "outputs": [
    {
     "data": {
      "text/html": [
       "<div>\n",
       "<table border=\"1\" class=\"dataframe\">\n",
       "  <thead>\n",
       "    <tr style=\"text-align: right;\">\n",
       "      <th></th>\n",
       "      <th>patient_id</th>\n",
       "      <th>tissue_id</th>\n",
       "      <th>subset_1</th>\n",
       "      <th>subset_2</th>\n",
       "      <th>replicate</th>\n",
       "      <th>dna</th>\n",
       "    </tr>\n",
       "    <tr>\n",
       "      <th>filename</th>\n",
       "      <th></th>\n",
       "      <th></th>\n",
       "      <th></th>\n",
       "      <th></th>\n",
       "      <th></th>\n",
       "      <th></th>\n",
       "    </tr>\n",
       "  </thead>\n",
       "  <tbody>\n",
       "    <tr>\n",
       "      <th>D233-LLN-CD8-TEM-rep4-200ng_S46</th>\n",
       "      <td>D233</td>\n",
       "      <td>LLN</td>\n",
       "      <td>CD8</td>\n",
       "      <td>TEM</td>\n",
       "      <td>rep4</td>\n",
       "      <td>200ng_S46</td>\n",
       "    </tr>\n",
       "    <tr>\n",
       "      <th>D233-BM-CD8-TEM-rep4-200ng_S38</th>\n",
       "      <td>D233</td>\n",
       "      <td>BM</td>\n",
       "      <td>CD8</td>\n",
       "      <td>TEM</td>\n",
       "      <td>rep4</td>\n",
       "      <td>200ng_S38</td>\n",
       "    </tr>\n",
       "    <tr>\n",
       "      <th>D299-BM-CD8-TRM-rep2-41ng_S72</th>\n",
       "      <td>D299</td>\n",
       "      <td>BM</td>\n",
       "      <td>CD8</td>\n",
       "      <td>TRM</td>\n",
       "      <td>rep2</td>\n",
       "      <td>41ng_S72</td>\n",
       "    </tr>\n",
       "    <tr>\n",
       "      <th>D255-LLN-CD8-TRM-rep1-46ng_S47</th>\n",
       "      <td>D255</td>\n",
       "      <td>LLN</td>\n",
       "      <td>CD8</td>\n",
       "      <td>TRM</td>\n",
       "      <td>rep1</td>\n",
       "      <td>46ng_S47</td>\n",
       "    </tr>\n",
       "    <tr>\n",
       "      <th>D280-LLN-CD8-TEM-rep2-26ng_S76</th>\n",
       "      <td>D280</td>\n",
       "      <td>LLN</td>\n",
       "      <td>CD8</td>\n",
       "      <td>TEM</td>\n",
       "      <td>rep2</td>\n",
       "      <td>26ng_S76</td>\n",
       "    </tr>\n",
       "  </tbody>\n",
       "</table>\n",
       "</div>"
      ],
      "text/plain": [
       "                                patient_id tissue_id subset_1 subset_2  \\\n",
       "filename                                                                 \n",
       "D233-LLN-CD8-TEM-rep4-200ng_S46       D233       LLN      CD8      TEM   \n",
       "D233-BM-CD8-TEM-rep4-200ng_S38        D233        BM      CD8      TEM   \n",
       "D299-BM-CD8-TRM-rep2-41ng_S72         D299        BM      CD8      TRM   \n",
       "D255-LLN-CD8-TRM-rep1-46ng_S47        D255       LLN      CD8      TRM   \n",
       "D280-LLN-CD8-TEM-rep2-26ng_S76        D280       LLN      CD8      TEM   \n",
       "\n",
       "                                replicate        dna  \n",
       "filename                                              \n",
       "D233-LLN-CD8-TEM-rep4-200ng_S46      rep4  200ng_S46  \n",
       "D233-BM-CD8-TEM-rep4-200ng_S38       rep4  200ng_S38  \n",
       "D299-BM-CD8-TRM-rep2-41ng_S72        rep2   41ng_S72  \n",
       "D255-LLN-CD8-TRM-rep1-46ng_S47       rep1   46ng_S47  \n",
       "D280-LLN-CD8-TEM-rep2-26ng_S76       rep2   26ng_S76  "
      ]
     },
     "execution_count": 10,
     "metadata": {},
     "output_type": "execute_result"
    }
   ],
   "source": [
    "metadata.head()"
   ]
  },
  {
   "cell_type": "code",
   "execution_count": 4,
   "metadata": {
    "collapsed": false,
    "deletable": true,
    "editable": true
   },
   "outputs": [],
   "source": [
    "merged_df=df.join(metadata)"
   ]
  },
  {
   "cell_type": "code",
   "execution_count": 5,
   "metadata": {
    "collapsed": false,
    "deletable": true,
    "editable": true
   },
   "outputs": [],
   "source": [
    "patient='D233'\n",
    "filtered_df=merged_df[merged_df['patient_id']==patient] #change here\n",
    "filtered_df = filtered_df.iloc[:, :-len(metadata.columns)]"
   ]
  },
  {
   "cell_type": "code",
   "execution_count": 27,
   "metadata": {
    "collapsed": false,
    "deletable": true,
    "editable": true
   },
   "outputs": [],
   "source": [
    "res_df = {}\n",
    "for l1, l2 in itertools.combinations(filtered_df.index, 2):\n",
    "    res_df.setdefault(l2, {})[l1] = res_df.setdefault(l1, {})[l2] = 1 - cosine(\n",
    "        list(filtered_df.loc[l1].values),\n",
    "        list(filtered_df.loc[l2].values),\n",
    "    )\n",
    "        \n",
    "cosine_data=pd.DataFrame(res_df).fillna(1)  #matrix with cosine differences"
   ]
  },
  {
   "cell_type": "code",
   "execution_count": 28,
   "metadata": {
    "collapsed": true,
    "deletable": true,
    "editable": true
   },
   "outputs": [],
   "source": [
    "res_df = {}\n",
    "for l1, l2 in itertools.combinations(filtered_df.index, 2):\n",
    "    res_df.setdefault(l2, {})[l1] = res_df.setdefault(l1, {})[l2] =jaccard(\n",
    "        list(filtered_df.loc[l1].values),\n",
    "        list(filtered_df.loc[l2].values),\n",
    "    )\n",
    "        \n",
    "jaccard_data=pd.DataFrame(res_df).fillna(1)  #matrix with jaccard differences"
   ]
  },
  {
   "cell_type": "code",
   "execution_count": 33,
   "metadata": {
    "collapsed": true,
    "deletable": true,
    "editable": true
   },
   "outputs": [],
   "source": [
    "def plot_heatmap(method):\n",
    "    METRIC = method\n",
    "    if METRIC=='cosine':data=cosine_data\n",
    "    if METRIC=='jaccard':data=jaccard_data\n",
    "    \n",
    "    \n",
    "    #fig, ax = plt.subplots(figsize=(12, 12))\n",
    "    cmap = sns.diverging_palette(220, 10, as_cmap=True)\n",
    "    sns.clustermap(data=data,cmap=cmap)"
   ]
  },
  {
   "cell_type": "code",
   "execution_count": 34,
   "metadata": {
    "collapsed": false,
    "deletable": true,
    "editable": true
   },
   "outputs": [
    {
     "data": {
      "application/vnd.jupyter.widget-view+json": {
       "model_id": "744ce550b0414c88b064d20695cf6b3c",
       "version_major": 2,
       "version_minor": 0
      },
      "text/plain": [
       "interactive(children=(Dropdown(description='method', options=('jaccard', 'cosine'), value='jaccard'), Output()…"
      ]
     },
     "metadata": {},
     "output_type": "display_data"
    },
    {
     "data": {
      "text/plain": [
       "<function __main__.plot_heatmap>"
      ]
     },
     "execution_count": 34,
     "metadata": {},
     "output_type": "execute_result"
    }
   ],
   "source": [
    "interact(plot_heatmap, method=['jaccard', 'cosine'])"
   ]
  },
  {
   "cell_type": "code",
   "execution_count": null,
   "metadata": {
    "collapsed": false,
    "deletable": true,
    "editable": true
   },
   "outputs": [],
   "source": []
  },
  {
   "cell_type": "code",
   "execution_count": null,
   "metadata": {
    "collapsed": false,
    "deletable": true,
    "editable": true,
    "scrolled": false
   },
   "outputs": [],
   "source": [
    "\n"
   ]
  },
  {
   "cell_type": "code",
   "execution_count": null,
   "metadata": {
    "collapsed": false,
    "deletable": true,
    "editable": true
   },
   "outputs": [],
   "source": []
  },
  {
   "cell_type": "code",
   "execution_count": null,
   "metadata": {
    "collapsed": false,
    "deletable": true,
    "editable": true
   },
   "outputs": [],
   "source": []
  },
  {
   "cell_type": "code",
   "execution_count": 51,
   "metadata": {
    "collapsed": false,
    "deletable": true,
    "editable": true
   },
   "outputs": [],
   "source": []
  },
  {
   "cell_type": "code",
   "execution_count": null,
   "metadata": {
    "collapsed": false,
    "deletable": true,
    "editable": true
   },
   "outputs": [],
   "source": []
  },
  {
   "cell_type": "code",
   "execution_count": null,
   "metadata": {
    "collapsed": false,
    "deletable": true,
    "editable": true
   },
   "outputs": [],
   "source": []
  },
  {
   "cell_type": "code",
   "execution_count": null,
   "metadata": {
    "collapsed": true,
    "deletable": true,
    "editable": true
   },
   "outputs": [],
   "source": []
  },
  {
   "cell_type": "code",
   "execution_count": null,
   "metadata": {
    "collapsed": false,
    "deletable": true,
    "editable": true
   },
   "outputs": [],
   "source": []
  },
  {
   "cell_type": "code",
   "execution_count": null,
   "metadata": {
    "collapsed": false,
    "deletable": true,
    "editable": true
   },
   "outputs": [],
   "source": []
  },
  {
   "cell_type": "code",
   "execution_count": null,
   "metadata": {
    "collapsed": false,
    "deletable": true,
    "editable": true
   },
   "outputs": [],
   "source": [
    "\n"
   ]
  },
  {
   "cell_type": "code",
   "execution_count": null,
   "metadata": {
    "collapsed": true,
    "deletable": true,
    "editable": true
   },
   "outputs": [],
   "source": []
  },
  {
   "cell_type": "code",
   "execution_count": null,
   "metadata": {
    "collapsed": true,
    "deletable": true,
    "editable": true
   },
   "outputs": [],
   "source": []
  }
 ],
 "metadata": {
  "kernelspec": {
   "display_name": "Python 3",
   "language": "python",
   "name": "python3"
  },
  "language_info": {
   "codemirror_mode": {
    "name": "ipython",
    "version": 3
   },
   "file_extension": ".py",
   "mimetype": "text/x-python",
   "name": "python",
   "nbconvert_exporter": "python",
   "pygments_lexer": "ipython3",
   "version": "3.6.0"
  }
 },
 "nbformat": 4,
 "nbformat_minor": 2
}
