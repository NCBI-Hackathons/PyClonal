{
 "cells": [
  {
   "cell_type": "code",
   "execution_count": 18,
   "metadata": {
    "collapsed": false,
    "deletable": true,
    "editable": true
   },
   "outputs": [
    {
     "data": {
      "text/html": [
       "<script>requirejs.config({paths: { 'plotly': ['https://cdn.plot.ly/plotly-latest.min']},});if(!window.Plotly) {{require(['plotly'],function(plotly) {window.Plotly=plotly;});}}</script>"
      ],
      "text/vnd.plotly.v1+html": [
       "<script>requirejs.config({paths: { 'plotly': ['https://cdn.plot.ly/plotly-latest.min']},});if(!window.Plotly) {{require(['plotly'],function(plotly) {window.Plotly=plotly;});}}</script>"
      ]
     },
     "metadata": {},
     "output_type": "display_data"
    }
   ],
   "source": [
    "%matplotlib inline\n",
    "\n",
    "import itertools\n",
    "import os\n",
    "\n",
    "import matplotlib\n",
    "import numpy as np\n",
    "import matplotlib.pyplot as plt\n",
    "import pandas as pd\n",
    "from scipy.spatial.distance import cosine, jaccard\n",
    "import seaborn as sns\n",
    "from pyclonal.parser import combineFiles\n",
    "import glob\n",
    "from plotly.offline import init_notebook_mode, iplot\n",
    "import plotly.plotly as py\n",
    "import plotly.graph_objs as go\n",
    "from IPython.html.widgets import interact\n",
    "init_notebook_mode(connected=True)\n",
    "from plotly.offline import iplot"
   ]
  },
  {
   "cell_type": "code",
   "execution_count": 4,
   "metadata": {
    "collapsed": true,
    "deletable": true,
    "editable": true
   },
   "outputs": [],
   "source": []
  },
  {
   "cell_type": "code",
   "execution_count": 19,
   "metadata": {
    "collapsed": false,
    "deletable": true,
    "editable": true
   },
   "outputs": [
    {
     "name": "stdout",
     "output_type": "stream",
     "text": [
      "../sample_input_files/D280.changeo_small.tsv looks like a changeo file\n",
      "../sample_input_files/D233.changeo_small.tsv looks like a changeo file\n",
      "../sample_input_files/D255.changeo_small.tsv looks like a changeo file\n",
      "../sample_input_files/D299.changeo_small.tsv looks like a changeo file\n",
      "../sample_input_files/D287.changeo_small.tsv looks like a changeo file\n"
     ]
    }
   ],
   "source": [
    "#uses Ilyas code to get combined dataframe\n",
    "\n",
    "df, seq_df = combineFiles(glob.glob('../sample_input_files/D*.tsv'))\n"
   ]
  },
  {
   "cell_type": "code",
   "execution_count": null,
   "metadata": {
    "collapsed": true,
    "deletable": true,
    "editable": true
   },
   "outputs": [],
   "source": []
  },
  {
   "cell_type": "code",
   "execution_count": 20,
   "metadata": {
    "collapsed": false,
    "deletable": true,
    "editable": true
   },
   "outputs": [],
   "source": [
    "metadata=pd.read_csv('../sample_input_files/metadata_csv.txt',index_col='filename')"
   ]
  },
  {
   "cell_type": "code",
   "execution_count": null,
   "metadata": {
    "collapsed": false
   },
   "outputs": [],
   "source": []
  },
  {
   "cell_type": "code",
   "execution_count": 21,
   "metadata": {
    "collapsed": false,
    "deletable": true,
    "editable": true
   },
   "outputs": [],
   "source": [
    "merged_df=df.join(metadata)"
   ]
  },
  {
   "cell_type": "code",
   "execution_count": 22,
   "metadata": {
    "collapsed": false,
    "deletable": true,
    "editable": true
   },
   "outputs": [],
   "source": [
    "patient='D233'\n",
    "filtered_df=merged_df[merged_df['patient_id']==patient] #change here\n",
    "filtered_df = filtered_df.iloc[:, :-len(metadata.columns)]"
   ]
  },
  {
   "cell_type": "code",
   "execution_count": 23,
   "metadata": {
    "collapsed": false,
    "deletable": true,
    "editable": true
   },
   "outputs": [],
   "source": [
    "res_df = {}\n",
    "for l1, l2 in itertools.combinations(filtered_df.index, 2):\n",
    "    res_df.setdefault(l2, {})[l1] = res_df.setdefault(l1, {})[l2] = 1 - cosine(\n",
    "        list(filtered_df.loc[l1].values),\n",
    "        list(filtered_df.loc[l2].values),\n",
    "    )\n",
    "        \n",
    "cosine_data=pd.DataFrame(res_df).fillna(1)  #matrix with cosine differences"
   ]
  },
  {
   "cell_type": "code",
   "execution_count": 24,
   "metadata": {
    "collapsed": true,
    "deletable": true,
    "editable": true
   },
   "outputs": [],
   "source": [
    "res_df = {}\n",
    "for l1, l2 in itertools.combinations(filtered_df.index, 2):\n",
    "    res_df.setdefault(l2, {})[l1] = res_df.setdefault(l1, {})[l2] =jaccard(\n",
    "        list(filtered_df.loc[l1].values),\n",
    "        list(filtered_df.loc[l2].values),\n",
    "    )\n",
    "        \n",
    "jaccard_data=pd.DataFrame(res_df).fillna(1)  #matrix with jaccard differences"
   ]
  },
  {
   "cell_type": "code",
   "execution_count": 25,
   "metadata": {
    "collapsed": true,
    "deletable": true,
    "editable": true
   },
   "outputs": [],
   "source": [
    "def plot_heatmap(method):\n",
    "    METRIC = method\n",
    "    if METRIC=='cosine':data=cosine_data\n",
    "    if METRIC=='jaccard':data=jaccard_data\n",
    "    \n",
    "    \n",
    "    fig, ax = plt.subplots(figsize=(12, 12))\n",
    "    cmap = sns.diverging_palette(220, 10, as_cmap=True)\n",
    "    ax = sns.heatmap(data=data, cmap=cmap, square=True, linewidths=.5,\n",
    "                 cbar_kws={\"shrink\": .5}, ax=ax)"
   ]
  },
  {
   "cell_type": "code",
   "execution_count": 26,
   "metadata": {
    "collapsed": false,
    "deletable": true,
    "editable": true
   },
   "outputs": [
    {
     "data": {
      "application/vnd.jupyter.widget-view+json": {
       "model_id": "8368b575a2c14cb283c019f51d31ff68",
       "version_major": 2,
       "version_minor": 0
      },
      "text/plain": [
       "interactive(children=(Dropdown(description='method', options=('jaccard', 'cosine'), value='jaccard'), Output()…"
      ]
     },
     "metadata": {},
     "output_type": "display_data"
    },
    {
     "data": {
      "text/plain": [
       "<function __main__.plot_heatmap>"
      ]
     },
     "execution_count": 26,
     "metadata": {},
     "output_type": "execute_result"
    }
   ],
   "source": [
    "interact(plot_heatmap, method=['jaccard', 'cosine'])"
   ]
  },
  {
   "cell_type": "code",
   "execution_count": 17,
   "metadata": {
    "collapsed": false,
    "deletable": true,
    "editable": true
   },
   "outputs": [
    {
     "data": {
      "text/html": [
       "<div>\n",
       "<table border=\"1\" class=\"dataframe\">\n",
       "  <thead>\n",
       "    <tr style=\"text-align: right;\">\n",
       "      <th></th>\n",
       "      <th>D233-BM-CD8-TEM-rep3-200ng_S27</th>\n",
       "      <th>D233-BM-CD8-TEM-rep4-200ng_S38</th>\n",
       "      <th>D233-BM-CD8-TRM-rep3-200ng_S26</th>\n",
       "      <th>D233-BM-CD8-TRM-rep4-200ng_S37</th>\n",
       "      <th>D233-LLN-CD8-TEM-rep3-200ng_S35</th>\n",
       "      <th>D233-LLN-CD8-TEM-rep4-200ng_S46</th>\n",
       "      <th>D233-LLN-CD8-TRM-rep3-200ng_S34</th>\n",
       "      <th>D233-LLN-CD8-TRM-rep4-200ng_S45</th>\n",
       "    </tr>\n",
       "  </thead>\n",
       "  <tbody>\n",
       "    <tr>\n",
       "      <th>D233-BM-CD8-TEM-rep3-200ng_S27</th>\n",
       "      <td>1.000000</td>\n",
       "      <td>0.020140</td>\n",
       "      <td>0.063183</td>\n",
       "      <td>0.019412</td>\n",
       "      <td>0.017830</td>\n",
       "      <td>0.016389</td>\n",
       "      <td>0.016537</td>\n",
       "      <td>0.020798</td>\n",
       "    </tr>\n",
       "    <tr>\n",
       "      <th>D233-BM-CD8-TEM-rep4-200ng_S38</th>\n",
       "      <td>0.020140</td>\n",
       "      <td>1.000000</td>\n",
       "      <td>0.029468</td>\n",
       "      <td>0.007086</td>\n",
       "      <td>0.026447</td>\n",
       "      <td>0.023213</td>\n",
       "      <td>0.004877</td>\n",
       "      <td>0.013390</td>\n",
       "    </tr>\n",
       "    <tr>\n",
       "      <th>D233-BM-CD8-TRM-rep3-200ng_S26</th>\n",
       "      <td>0.063183</td>\n",
       "      <td>0.029468</td>\n",
       "      <td>1.000000</td>\n",
       "      <td>0.102882</td>\n",
       "      <td>0.053850</td>\n",
       "      <td>0.039000</td>\n",
       "      <td>0.009240</td>\n",
       "      <td>0.185147</td>\n",
       "    </tr>\n",
       "    <tr>\n",
       "      <th>D233-BM-CD8-TRM-rep4-200ng_S37</th>\n",
       "      <td>0.019412</td>\n",
       "      <td>0.007086</td>\n",
       "      <td>0.102882</td>\n",
       "      <td>1.000000</td>\n",
       "      <td>0.026842</td>\n",
       "      <td>0.143629</td>\n",
       "      <td>0.008931</td>\n",
       "      <td>0.065064</td>\n",
       "    </tr>\n",
       "    <tr>\n",
       "      <th>D233-LLN-CD8-TEM-rep3-200ng_S35</th>\n",
       "      <td>0.017830</td>\n",
       "      <td>0.026447</td>\n",
       "      <td>0.053850</td>\n",
       "      <td>0.026842</td>\n",
       "      <td>1.000000</td>\n",
       "      <td>0.027962</td>\n",
       "      <td>0.004087</td>\n",
       "      <td>0.049842</td>\n",
       "    </tr>\n",
       "    <tr>\n",
       "      <th>D233-LLN-CD8-TEM-rep4-200ng_S46</th>\n",
       "      <td>0.016389</td>\n",
       "      <td>0.023213</td>\n",
       "      <td>0.039000</td>\n",
       "      <td>0.143629</td>\n",
       "      <td>0.027962</td>\n",
       "      <td>1.000000</td>\n",
       "      <td>0.012107</td>\n",
       "      <td>0.039225</td>\n",
       "    </tr>\n",
       "    <tr>\n",
       "      <th>D233-LLN-CD8-TRM-rep3-200ng_S34</th>\n",
       "      <td>0.016537</td>\n",
       "      <td>0.004877</td>\n",
       "      <td>0.009240</td>\n",
       "      <td>0.008931</td>\n",
       "      <td>0.004087</td>\n",
       "      <td>0.012107</td>\n",
       "      <td>1.000000</td>\n",
       "      <td>0.031582</td>\n",
       "    </tr>\n",
       "    <tr>\n",
       "      <th>D233-LLN-CD8-TRM-rep4-200ng_S45</th>\n",
       "      <td>0.020798</td>\n",
       "      <td>0.013390</td>\n",
       "      <td>0.185147</td>\n",
       "      <td>0.065064</td>\n",
       "      <td>0.049842</td>\n",
       "      <td>0.039225</td>\n",
       "      <td>0.031582</td>\n",
       "      <td>1.000000</td>\n",
       "    </tr>\n",
       "  </tbody>\n",
       "</table>\n",
       "</div>"
      ],
      "text/plain": [
       "                                 D233-BM-CD8-TEM-rep3-200ng_S27  \\\n",
       "D233-BM-CD8-TEM-rep3-200ng_S27                         1.000000   \n",
       "D233-BM-CD8-TEM-rep4-200ng_S38                         0.020140   \n",
       "D233-BM-CD8-TRM-rep3-200ng_S26                         0.063183   \n",
       "D233-BM-CD8-TRM-rep4-200ng_S37                         0.019412   \n",
       "D233-LLN-CD8-TEM-rep3-200ng_S35                        0.017830   \n",
       "D233-LLN-CD8-TEM-rep4-200ng_S46                        0.016389   \n",
       "D233-LLN-CD8-TRM-rep3-200ng_S34                        0.016537   \n",
       "D233-LLN-CD8-TRM-rep4-200ng_S45                        0.020798   \n",
       "\n",
       "                                 D233-BM-CD8-TEM-rep4-200ng_S38  \\\n",
       "D233-BM-CD8-TEM-rep3-200ng_S27                         0.020140   \n",
       "D233-BM-CD8-TEM-rep4-200ng_S38                         1.000000   \n",
       "D233-BM-CD8-TRM-rep3-200ng_S26                         0.029468   \n",
       "D233-BM-CD8-TRM-rep4-200ng_S37                         0.007086   \n",
       "D233-LLN-CD8-TEM-rep3-200ng_S35                        0.026447   \n",
       "D233-LLN-CD8-TEM-rep4-200ng_S46                        0.023213   \n",
       "D233-LLN-CD8-TRM-rep3-200ng_S34                        0.004877   \n",
       "D233-LLN-CD8-TRM-rep4-200ng_S45                        0.013390   \n",
       "\n",
       "                                 D233-BM-CD8-TRM-rep3-200ng_S26  \\\n",
       "D233-BM-CD8-TEM-rep3-200ng_S27                         0.063183   \n",
       "D233-BM-CD8-TEM-rep4-200ng_S38                         0.029468   \n",
       "D233-BM-CD8-TRM-rep3-200ng_S26                         1.000000   \n",
       "D233-BM-CD8-TRM-rep4-200ng_S37                         0.102882   \n",
       "D233-LLN-CD8-TEM-rep3-200ng_S35                        0.053850   \n",
       "D233-LLN-CD8-TEM-rep4-200ng_S46                        0.039000   \n",
       "D233-LLN-CD8-TRM-rep3-200ng_S34                        0.009240   \n",
       "D233-LLN-CD8-TRM-rep4-200ng_S45                        0.185147   \n",
       "\n",
       "                                 D233-BM-CD8-TRM-rep4-200ng_S37  \\\n",
       "D233-BM-CD8-TEM-rep3-200ng_S27                         0.019412   \n",
       "D233-BM-CD8-TEM-rep4-200ng_S38                         0.007086   \n",
       "D233-BM-CD8-TRM-rep3-200ng_S26                         0.102882   \n",
       "D233-BM-CD8-TRM-rep4-200ng_S37                         1.000000   \n",
       "D233-LLN-CD8-TEM-rep3-200ng_S35                        0.026842   \n",
       "D233-LLN-CD8-TEM-rep4-200ng_S46                        0.143629   \n",
       "D233-LLN-CD8-TRM-rep3-200ng_S34                        0.008931   \n",
       "D233-LLN-CD8-TRM-rep4-200ng_S45                        0.065064   \n",
       "\n",
       "                                 D233-LLN-CD8-TEM-rep3-200ng_S35  \\\n",
       "D233-BM-CD8-TEM-rep3-200ng_S27                          0.017830   \n",
       "D233-BM-CD8-TEM-rep4-200ng_S38                          0.026447   \n",
       "D233-BM-CD8-TRM-rep3-200ng_S26                          0.053850   \n",
       "D233-BM-CD8-TRM-rep4-200ng_S37                          0.026842   \n",
       "D233-LLN-CD8-TEM-rep3-200ng_S35                         1.000000   \n",
       "D233-LLN-CD8-TEM-rep4-200ng_S46                         0.027962   \n",
       "D233-LLN-CD8-TRM-rep3-200ng_S34                         0.004087   \n",
       "D233-LLN-CD8-TRM-rep4-200ng_S45                         0.049842   \n",
       "\n",
       "                                 D233-LLN-CD8-TEM-rep4-200ng_S46  \\\n",
       "D233-BM-CD8-TEM-rep3-200ng_S27                          0.016389   \n",
       "D233-BM-CD8-TEM-rep4-200ng_S38                          0.023213   \n",
       "D233-BM-CD8-TRM-rep3-200ng_S26                          0.039000   \n",
       "D233-BM-CD8-TRM-rep4-200ng_S37                          0.143629   \n",
       "D233-LLN-CD8-TEM-rep3-200ng_S35                         0.027962   \n",
       "D233-LLN-CD8-TEM-rep4-200ng_S46                         1.000000   \n",
       "D233-LLN-CD8-TRM-rep3-200ng_S34                         0.012107   \n",
       "D233-LLN-CD8-TRM-rep4-200ng_S45                         0.039225   \n",
       "\n",
       "                                 D233-LLN-CD8-TRM-rep3-200ng_S34  \\\n",
       "D233-BM-CD8-TEM-rep3-200ng_S27                          0.016537   \n",
       "D233-BM-CD8-TEM-rep4-200ng_S38                          0.004877   \n",
       "D233-BM-CD8-TRM-rep3-200ng_S26                          0.009240   \n",
       "D233-BM-CD8-TRM-rep4-200ng_S37                          0.008931   \n",
       "D233-LLN-CD8-TEM-rep3-200ng_S35                         0.004087   \n",
       "D233-LLN-CD8-TEM-rep4-200ng_S46                         0.012107   \n",
       "D233-LLN-CD8-TRM-rep3-200ng_S34                         1.000000   \n",
       "D233-LLN-CD8-TRM-rep4-200ng_S45                         0.031582   \n",
       "\n",
       "                                 D233-LLN-CD8-TRM-rep4-200ng_S45  \n",
       "D233-BM-CD8-TEM-rep3-200ng_S27                          0.020798  \n",
       "D233-BM-CD8-TEM-rep4-200ng_S38                          0.013390  \n",
       "D233-BM-CD8-TRM-rep3-200ng_S26                          0.185147  \n",
       "D233-BM-CD8-TRM-rep4-200ng_S37                          0.065064  \n",
       "D233-LLN-CD8-TEM-rep3-200ng_S35                         0.049842  \n",
       "D233-LLN-CD8-TEM-rep4-200ng_S46                         0.039225  \n",
       "D233-LLN-CD8-TRM-rep3-200ng_S34                         0.031582  \n",
       "D233-LLN-CD8-TRM-rep4-200ng_S45                         1.000000  "
      ]
     },
     "execution_count": 17,
     "metadata": {},
     "output_type": "execute_result"
    }
   ],
   "source": [
    "cosine_data"
   ]
  },
  {
   "cell_type": "code",
   "execution_count": null,
   "metadata": {
    "collapsed": false,
    "deletable": true,
    "editable": true,
    "scrolled": false
   },
   "outputs": [],
   "source": [
    "\n"
   ]
  },
  {
   "cell_type": "code",
   "execution_count": null,
   "metadata": {
    "collapsed": false,
    "deletable": true,
    "editable": true
   },
   "outputs": [],
   "source": []
  },
  {
   "cell_type": "code",
   "execution_count": null,
   "metadata": {
    "collapsed": false,
    "deletable": true,
    "editable": true
   },
   "outputs": [],
   "source": []
  },
  {
   "cell_type": "code",
   "execution_count": 51,
   "metadata": {
    "collapsed": false,
    "deletable": true,
    "editable": true
   },
   "outputs": [],
   "source": []
  },
  {
   "cell_type": "code",
   "execution_count": null,
   "metadata": {
    "collapsed": false,
    "deletable": true,
    "editable": true
   },
   "outputs": [],
   "source": []
  },
  {
   "cell_type": "code",
   "execution_count": null,
   "metadata": {
    "collapsed": false,
    "deletable": true,
    "editable": true
   },
   "outputs": [],
   "source": []
  },
  {
   "cell_type": "code",
   "execution_count": null,
   "metadata": {
    "collapsed": true,
    "deletable": true,
    "editable": true
   },
   "outputs": [],
   "source": []
  },
  {
   "cell_type": "code",
   "execution_count": null,
   "metadata": {
    "collapsed": false,
    "deletable": true,
    "editable": true
   },
   "outputs": [],
   "source": []
  },
  {
   "cell_type": "code",
   "execution_count": null,
   "metadata": {
    "collapsed": false,
    "deletable": true,
    "editable": true
   },
   "outputs": [],
   "source": []
  },
  {
   "cell_type": "code",
   "execution_count": null,
   "metadata": {
    "collapsed": false,
    "deletable": true,
    "editable": true
   },
   "outputs": [],
   "source": [
    "\n"
   ]
  },
  {
   "cell_type": "code",
   "execution_count": null,
   "metadata": {
    "collapsed": true,
    "deletable": true,
    "editable": true
   },
   "outputs": [],
   "source": []
  },
  {
   "cell_type": "code",
   "execution_count": null,
   "metadata": {
    "collapsed": true,
    "deletable": true,
    "editable": true
   },
   "outputs": [],
   "source": []
  }
 ],
 "metadata": {
  "kernelspec": {
   "display_name": "Python 3",
   "language": "python",
   "name": "python3"
  },
  "language_info": {
   "codemirror_mode": {
    "name": "ipython",
    "version": 3
   },
   "file_extension": ".py",
   "mimetype": "text/x-python",
   "name": "python",
   "nbconvert_exporter": "python",
   "pygments_lexer": "ipython3",
   "version": "3.6.0"
  }
 },
 "nbformat": 4,
 "nbformat_minor": 2
}
