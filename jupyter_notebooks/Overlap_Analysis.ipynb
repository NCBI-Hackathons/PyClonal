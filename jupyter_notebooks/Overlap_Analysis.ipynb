{
 "cells": [
  {
   "cell_type": "markdown",
   "metadata": {},
   "source": [
    "## Calculating Overlap between samples"
   ]
  },
  {
   "cell_type": "markdown",
   "metadata": {},
   "source": [
    "# Step 1: Load the required packages for this notebook ! \n",
    "Keep code as written below and run. All places where changes are needed are indicated as Steps throughout this notebook."
   ]
  },
  {
   "cell_type": "code",
   "execution_count": 2,
   "metadata": {},
   "outputs": [],
   "source": [
    "%%capture\n",
    "%matplotlib inline\n",
    "import pandas as pd\n",
    "import seaborn as sns\n",
    "from IPython.html.widgets import interact\n",
    "\n",
    "try:\n",
    "    import pyclonal\n",
    "except ImportError:\n",
    "    pyclonal_path = os.path.abspath(os.path.join('..'))\n",
    "    if pyclonal_path not in sys.path:\n",
    "        sys.path.append(pyclonal_path)\n",
    "\n",
    "from pyclonal.io import combineFiles\n",
    "from pyclonal.utils import distance"
   ]
  },
  {
   "cell_type": "markdown",
   "metadata": {},
   "source": [
    "# Step 2 : Change directory to your data location"
   ]
  },
  {
   "cell_type": "markdown",
   "metadata": {},
   "source": [
    "The directory field is for the directory the folder is located where all your files are. This part is required. The pattern field is an optional field, if you do not want to load all the files in a given directory, you can instead specify a pattern for those files that you do want to load in"
   ]
  },
  {
   "cell_type": "code",
   "execution_count": 3,
   "metadata": {},
   "outputs": [
    {
     "name": "stdout",
     "output_type": "stream",
     "text": [
      "../sample_input_files/changeo/D287.changeo_small_demo.tsv looks like a changeo file\n",
      "../sample_input_files/changeo/D233.changeo_small_demo.tsv looks like a changeo file\n",
      "../sample_input_files/changeo/D280.changeo_small_demo.tsv looks like a changeo file\n",
      "../sample_input_files/changeo/D255.changeo_small_demo.tsv looks like a changeo file\n",
      "../sample_input_files/changeo/D299.changeo_small_demo.tsv looks like a changeo file\n"
     ]
    }
   ],
   "source": [
    "#combine input files\n",
    "directory = \"../sample_input_files/changeo\"\n",
    "pattern = \"D*.changeo_small_demo.tsv\" #pattern paremeter is optional\n",
    "\n",
    "df, seq_df = combineFiles(directory,pattern)"
   ]
  },
  {
   "cell_type": "markdown",
   "metadata": {},
   "source": [
    "# Step 3 : Change directory to your metadata location"
   ]
  },
  {
   "cell_type": "markdown",
   "metadata": {},
   "source": [
    "You need to create a metadata file before running this part of the notebook. Here is where you load that metadata file that you created that described your samples. "
   ]
  },
  {
   "cell_type": "code",
   "execution_count": 27,
   "metadata": {},
   "outputs": [],
   "source": [
    "directory = '../sample_input_files/metadata_demo.csv'\n",
    "\n",
    "metadata=pd.read_csv(directory,index_col='filename')"
   ]
  },
  {
   "cell_type": "markdown",
   "metadata": {},
   "source": [
    "# Step 4: Specify which sample group you want to look at first"
   ]
  },
  {
   "cell_type": "markdown",
   "metadata": {},
   "source": [
    "In this case it is the patient that we are specifying"
   ]
  },
  {
   "cell_type": "code",
   "execution_count": 28,
   "metadata": {},
   "outputs": [],
   "source": [
    "patient = 'D233'"
   ]
  },
  {
   "cell_type": "code",
   "execution_count": 29,
   "metadata": {},
   "outputs": [
    {
     "data": {
      "text/html": [
       "<div>\n",
       "<style scoped>\n",
       "    .dataframe tbody tr th:only-of-type {\n",
       "        vertical-align: middle;\n",
       "    }\n",
       "\n",
       "    .dataframe tbody tr th {\n",
       "        vertical-align: top;\n",
       "    }\n",
       "\n",
       "    .dataframe thead th {\n",
       "        text-align: right;\n",
       "    }\n",
       "</style>\n",
       "<table border=\"1\" class=\"dataframe\">\n",
       "  <thead>\n",
       "    <tr style=\"text-align: right;\">\n",
       "      <th></th>\n",
       "      <th>D233_2</th>\n",
       "      <th>D233_1</th>\n",
       "      <th>D233_3</th>\n",
       "      <th>D233_4</th>\n",
       "      <th>D233_5</th>\n",
       "      <th>D233_6</th>\n",
       "      <th>D233_7</th>\n",
       "      <th>D233_8</th>\n",
       "    </tr>\n",
       "  </thead>\n",
       "  <tbody>\n",
       "    <tr>\n",
       "      <th>D233_1</th>\n",
       "      <td>0.004087</td>\n",
       "      <td>1.000000</td>\n",
       "      <td>0.017830</td>\n",
       "      <td>0.027962</td>\n",
       "      <td>0.053850</td>\n",
       "      <td>0.049842</td>\n",
       "      <td>0.026447</td>\n",
       "      <td>0.026842</td>\n",
       "    </tr>\n",
       "    <tr>\n",
       "      <th>D233_2</th>\n",
       "      <td>1.000000</td>\n",
       "      <td>0.004087</td>\n",
       "      <td>0.016537</td>\n",
       "      <td>0.012107</td>\n",
       "      <td>0.009240</td>\n",
       "      <td>0.031582</td>\n",
       "      <td>0.004877</td>\n",
       "      <td>0.008931</td>\n",
       "    </tr>\n",
       "    <tr>\n",
       "      <th>D233_3</th>\n",
       "      <td>0.016537</td>\n",
       "      <td>0.017830</td>\n",
       "      <td>1.000000</td>\n",
       "      <td>0.016389</td>\n",
       "      <td>0.063183</td>\n",
       "      <td>0.020798</td>\n",
       "      <td>0.020140</td>\n",
       "      <td>0.019412</td>\n",
       "    </tr>\n",
       "    <tr>\n",
       "      <th>D233_4</th>\n",
       "      <td>0.012107</td>\n",
       "      <td>0.027962</td>\n",
       "      <td>0.016389</td>\n",
       "      <td>1.000000</td>\n",
       "      <td>0.039000</td>\n",
       "      <td>0.039225</td>\n",
       "      <td>0.023213</td>\n",
       "      <td>0.143629</td>\n",
       "    </tr>\n",
       "    <tr>\n",
       "      <th>D233_5</th>\n",
       "      <td>0.009240</td>\n",
       "      <td>0.053850</td>\n",
       "      <td>0.063183</td>\n",
       "      <td>0.039000</td>\n",
       "      <td>1.000000</td>\n",
       "      <td>0.185147</td>\n",
       "      <td>0.029468</td>\n",
       "      <td>0.102882</td>\n",
       "    </tr>\n",
       "    <tr>\n",
       "      <th>D233_6</th>\n",
       "      <td>0.031582</td>\n",
       "      <td>0.049842</td>\n",
       "      <td>0.020798</td>\n",
       "      <td>0.039225</td>\n",
       "      <td>0.185147</td>\n",
       "      <td>1.000000</td>\n",
       "      <td>0.013390</td>\n",
       "      <td>0.065064</td>\n",
       "    </tr>\n",
       "    <tr>\n",
       "      <th>D233_7</th>\n",
       "      <td>0.004877</td>\n",
       "      <td>0.026447</td>\n",
       "      <td>0.020140</td>\n",
       "      <td>0.023213</td>\n",
       "      <td>0.029468</td>\n",
       "      <td>0.013390</td>\n",
       "      <td>1.000000</td>\n",
       "      <td>0.007086</td>\n",
       "    </tr>\n",
       "    <tr>\n",
       "      <th>D233_8</th>\n",
       "      <td>0.008931</td>\n",
       "      <td>0.026842</td>\n",
       "      <td>0.019412</td>\n",
       "      <td>0.143629</td>\n",
       "      <td>0.102882</td>\n",
       "      <td>0.065064</td>\n",
       "      <td>0.007086</td>\n",
       "      <td>1.000000</td>\n",
       "    </tr>\n",
       "  </tbody>\n",
       "</table>\n",
       "</div>"
      ],
      "text/plain": [
       "          D233_2    D233_1    D233_3    D233_4    D233_5    D233_6    D233_7  \\\n",
       "D233_1  0.004087  1.000000  0.017830  0.027962  0.053850  0.049842  0.026447   \n",
       "D233_2  1.000000  0.004087  0.016537  0.012107  0.009240  0.031582  0.004877   \n",
       "D233_3  0.016537  0.017830  1.000000  0.016389  0.063183  0.020798  0.020140   \n",
       "D233_4  0.012107  0.027962  0.016389  1.000000  0.039000  0.039225  0.023213   \n",
       "D233_5  0.009240  0.053850  0.063183  0.039000  1.000000  0.185147  0.029468   \n",
       "D233_6  0.031582  0.049842  0.020798  0.039225  0.185147  1.000000  0.013390   \n",
       "D233_7  0.004877  0.026447  0.020140  0.023213  0.029468  0.013390  1.000000   \n",
       "D233_8  0.008931  0.026842  0.019412  0.143629  0.102882  0.065064  0.007086   \n",
       "\n",
       "          D233_8  \n",
       "D233_1  0.026842  \n",
       "D233_2  0.008931  \n",
       "D233_3  0.019412  \n",
       "D233_4  0.143629  \n",
       "D233_5  0.102882  \n",
       "D233_6  0.065064  \n",
       "D233_7  0.007086  \n",
       "D233_8  1.000000  "
      ]
     },
     "execution_count": 29,
     "metadata": {},
     "output_type": "execute_result"
    }
   ],
   "source": [
    "cosine_dist = distance(df, metadata, field='patient_id', value=patient)\n",
    "cosine_dist"
   ]
  },
  {
   "cell_type": "code",
   "execution_count": 30,
   "metadata": {},
   "outputs": [
    {
     "data": {
      "text/html": [
       "<div>\n",
       "<style scoped>\n",
       "    .dataframe tbody tr th:only-of-type {\n",
       "        vertical-align: middle;\n",
       "    }\n",
       "\n",
       "    .dataframe tbody tr th {\n",
       "        vertical-align: top;\n",
       "    }\n",
       "\n",
       "    .dataframe thead th {\n",
       "        text-align: right;\n",
       "    }\n",
       "</style>\n",
       "<table border=\"1\" class=\"dataframe\">\n",
       "  <thead>\n",
       "    <tr style=\"text-align: right;\">\n",
       "      <th></th>\n",
       "      <th>D233_2</th>\n",
       "      <th>D233_1</th>\n",
       "      <th>D233_3</th>\n",
       "      <th>D233_4</th>\n",
       "      <th>D233_5</th>\n",
       "      <th>D233_6</th>\n",
       "      <th>D233_7</th>\n",
       "      <th>D233_8</th>\n",
       "    </tr>\n",
       "  </thead>\n",
       "  <tbody>\n",
       "    <tr>\n",
       "      <th>D233_1</th>\n",
       "      <td>1.000000</td>\n",
       "      <td>1.000000</td>\n",
       "      <td>0.973958</td>\n",
       "      <td>0.989418</td>\n",
       "      <td>0.983425</td>\n",
       "      <td>0.989899</td>\n",
       "      <td>0.979592</td>\n",
       "      <td>0.989848</td>\n",
       "    </tr>\n",
       "    <tr>\n",
       "      <th>D233_2</th>\n",
       "      <td>1.000000</td>\n",
       "      <td>1.000000</td>\n",
       "      <td>0.990148</td>\n",
       "      <td>0.984375</td>\n",
       "      <td>0.989418</td>\n",
       "      <td>0.979899</td>\n",
       "      <td>0.985366</td>\n",
       "      <td>0.995025</td>\n",
       "    </tr>\n",
       "    <tr>\n",
       "      <th>D233_3</th>\n",
       "      <td>0.990148</td>\n",
       "      <td>0.973958</td>\n",
       "      <td>1.000000</td>\n",
       "      <td>0.970930</td>\n",
       "      <td>0.975309</td>\n",
       "      <td>0.989189</td>\n",
       "      <td>0.965909</td>\n",
       "      <td>0.988889</td>\n",
       "    </tr>\n",
       "    <tr>\n",
       "      <th>D233_4</th>\n",
       "      <td>0.984375</td>\n",
       "      <td>0.989418</td>\n",
       "      <td>0.970930</td>\n",
       "      <td>1.000000</td>\n",
       "      <td>0.993902</td>\n",
       "      <td>0.982456</td>\n",
       "      <td>0.965714</td>\n",
       "      <td>0.982759</td>\n",
       "    </tr>\n",
       "    <tr>\n",
       "      <th>D233_5</th>\n",
       "      <td>0.989418</td>\n",
       "      <td>0.983425</td>\n",
       "      <td>0.975309</td>\n",
       "      <td>0.993902</td>\n",
       "      <td>1.000000</td>\n",
       "      <td>0.970060</td>\n",
       "      <td>0.994048</td>\n",
       "      <td>0.974026</td>\n",
       "    </tr>\n",
       "    <tr>\n",
       "      <th>D233_6</th>\n",
       "      <td>0.979899</td>\n",
       "      <td>0.989899</td>\n",
       "      <td>0.989189</td>\n",
       "      <td>0.982456</td>\n",
       "      <td>0.970060</td>\n",
       "      <td>1.000000</td>\n",
       "      <td>0.984043</td>\n",
       "      <td>0.966292</td>\n",
       "    </tr>\n",
       "    <tr>\n",
       "      <th>D233_7</th>\n",
       "      <td>0.985366</td>\n",
       "      <td>0.979592</td>\n",
       "      <td>0.965909</td>\n",
       "      <td>0.965714</td>\n",
       "      <td>0.994048</td>\n",
       "      <td>0.984043</td>\n",
       "      <td>1.000000</td>\n",
       "      <td>0.977901</td>\n",
       "    </tr>\n",
       "    <tr>\n",
       "      <th>D233_8</th>\n",
       "      <td>0.995025</td>\n",
       "      <td>0.989848</td>\n",
       "      <td>0.988889</td>\n",
       "      <td>0.982759</td>\n",
       "      <td>0.974026</td>\n",
       "      <td>0.966292</td>\n",
       "      <td>0.977901</td>\n",
       "      <td>1.000000</td>\n",
       "    </tr>\n",
       "  </tbody>\n",
       "</table>\n",
       "</div>"
      ],
      "text/plain": [
       "          D233_2    D233_1    D233_3    D233_4    D233_5    D233_6    D233_7  \\\n",
       "D233_1  1.000000  1.000000  0.973958  0.989418  0.983425  0.989899  0.979592   \n",
       "D233_2  1.000000  1.000000  0.990148  0.984375  0.989418  0.979899  0.985366   \n",
       "D233_3  0.990148  0.973958  1.000000  0.970930  0.975309  0.989189  0.965909   \n",
       "D233_4  0.984375  0.989418  0.970930  1.000000  0.993902  0.982456  0.965714   \n",
       "D233_5  0.989418  0.983425  0.975309  0.993902  1.000000  0.970060  0.994048   \n",
       "D233_6  0.979899  0.989899  0.989189  0.982456  0.970060  1.000000  0.984043   \n",
       "D233_7  0.985366  0.979592  0.965909  0.965714  0.994048  0.984043  1.000000   \n",
       "D233_8  0.995025  0.989848  0.988889  0.982759  0.974026  0.966292  0.977901   \n",
       "\n",
       "          D233_8  \n",
       "D233_1  0.989848  \n",
       "D233_2  0.995025  \n",
       "D233_3  0.988889  \n",
       "D233_4  0.982759  \n",
       "D233_5  0.974026  \n",
       "D233_6  0.966292  \n",
       "D233_7  0.977901  \n",
       "D233_8  1.000000  "
      ]
     },
     "execution_count": 30,
     "metadata": {},
     "output_type": "execute_result"
    }
   ],
   "source": [
    "jaccard_dist = distance(df, metadata, field='patient_id', value=patient, method='jaccard')\n",
    "jaccard_dist"
   ]
  },
  {
   "cell_type": "markdown",
   "metadata": {},
   "source": [
    "# Step 5: Make interactive plot"
   ]
  },
  {
   "cell_type": "code",
   "execution_count": 31,
   "metadata": {},
   "outputs": [],
   "source": [
    "def plot_heatmap(method):\n",
    "    METRIC = method\n",
    "    if METRIC == 'cosine':\n",
    "        data = cosine_dist\n",
    "    if METRIC=='jaccard':\n",
    "        data = jaccard_dist\n",
    "    cmap = sns.diverging_palette(220, 10, as_cmap=True)\n",
    "    sns.clustermap(data=data,cmap=cmap)"
   ]
  },
  {
   "cell_type": "code",
   "execution_count": 32,
   "metadata": {},
   "outputs": [
    {
     "data": {
      "application/vnd.jupyter.widget-view+json": {
       "model_id": "d877058b853442b79a186cb274efc452",
       "version_major": 2,
       "version_minor": 0
      },
      "text/plain": [
       "interactive(children=(Dropdown(description='method', options=('jaccard', 'cosine'), value='jaccard'), Output()…"
      ]
     },
     "metadata": {},
     "output_type": "display_data"
    },
    {
     "data": {
      "text/plain": [
       "<function __main__.plot_heatmap(method)>"
      ]
     },
     "execution_count": 32,
     "metadata": {},
     "output_type": "execute_result"
    }
   ],
   "source": [
    "interact(plot_heatmap, method=['jaccard', 'cosine'])"
   ]
  },
  {
   "cell_type": "markdown",
   "metadata": {},
   "source": [
    "Show sample of a plot that is not interactive"
   ]
  },
  {
   "cell_type": "code",
   "execution_count": 33,
   "metadata": {},
   "outputs": [
    {
     "data": {
      "image/png": "[encoded data removed]",
      "text/plain": [
       "<Figure size 720x720 with 4 Axes>"
      ]
     },
     "metadata": {},
     "output_type": "display_data"
    }
   ],
   "source": [
    "plot_heatmap('cosine')"
   ]
  },
  {
   "cell_type": "code",
   "execution_count": 34,
   "metadata": {},
   "outputs": [
    {
     "data": {
      "image/png": "[encoded data removed]",
      "text/plain": [
       "<Figure size 720x720 with 4 Axes>"
      ]
     },
     "metadata": {},
     "output_type": "display_data"
    }
   ],
   "source": [
    "plot_heatmap('jaccard')"
   ]
  }
 ],
 "metadata": {
  "kernelspec": {
   "display_name": "Python 3",
   "language": "python",
   "name": "python3"
  },
  "language_info": {
   "codemirror_mode": {
    "name": "ipython",
    "version": 3
   },
   "file_extension": ".py",
   "mimetype": "text/x-python",
   "name": "python",
   "nbconvert_exporter": "python",
   "pygments_lexer": "ipython3",
   "version": "3.5.5"
  }
 },
 "nbformat": 4,
 "nbformat_minor": 2
}
