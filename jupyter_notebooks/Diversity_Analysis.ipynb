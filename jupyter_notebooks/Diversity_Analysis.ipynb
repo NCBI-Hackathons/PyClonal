{
 "cells": [
  {
   "cell_type": "markdown",
   "metadata": {},
   "source": [
    "## Quick Start Demo -- Diversity Analysis\n",
    "### Load the required pacakges for this notebook ! \n",
    "None of this code needs to be changed. All places where changes are needed are indicated as Steps throughout this notebook."
   ]
  },
  {
   "cell_type": "markdown",
   "metadata": {},
   "source": [
    "# Step 1 : Change file path to input your data"
   ]
  },
  {
   "cell_type": "code",
   "execution_count": 1,
   "metadata": {},
   "outputs": [],
   "source": [
    "%%capture\n",
    "%matplotlib inline\n",
    "\n",
    "import itertools\n",
    "import os\n",
    "import numpy as np\n",
    "import pandas as pd\n",
    "from scipy.spatial.distance import cosine, jaccard\n",
    "import seaborn as sns\n",
    "from pyclonal.io import combineFiles\n",
    "\n",
    "from IPython.html.widgets import interact\n",
    "\n",
    "try:\n",
    "    import pyclonal\n",
    "except ImportError:\n",
    "    pyclonal_path = os.path.abspath(os.path.join('..'))\n",
    "    if pyclonal_path not in sys.path:\n",
    "        sys.path.append(pyclonal_path)\n",
    "from pyclonal.utils import shannon_entropy,calc_clonality"
   ]
  },
  {
   "cell_type": "markdown",
   "metadata": {},
   "source": [
    "# Step 1 : Change file path to input your data"
   ]
  },
  {
   "cell_type": "code",
   "execution_count": 2,
   "metadata": {},
   "outputs": [
    {
     "name": "stdout",
     "output_type": "stream",
     "text": [
      "../sample_input_files/D287.changeo_small_demo.tsv looks like a changeo file\n",
      "../sample_input_files/D233.changeo_small_demo.tsv looks like a changeo file\n",
      "../sample_input_files/D280.changeo_small_demo.tsv looks like a changeo file\n",
      "../sample_input_files/D255.changeo_small_demo.tsv looks like a changeo file\n",
      "../sample_input_files/D299.changeo_small_demo.tsv looks like a changeo file\n"
     ]
    }
   ],
   "source": [
    "#combine input files\n",
    "directory = \"../sample_input_files/\"\n",
    "pattern = \"D*.changeo_small_demo.tsv\"\n",
    "\n",
    "df, seq_df = combineFiles(directory,pattern)"
   ]
  },
  {
   "cell_type": "markdown",
   "metadata": {},
   "source": [
    "# Calculate Clonality"
   ]
  },
  {
   "cell_type": "code",
   "execution_count": 3,
   "metadata": {},
   "outputs": [],
   "source": [
    "clonality=calc_clonality(df)"
   ]
  },
  {
   "cell_type": "markdown",
   "metadata": {},
   "source": [
    "# Step 2 : Change file path to input your metadata that described your samples"
   ]
  },
  {
   "cell_type": "code",
   "execution_count": 4,
   "metadata": {},
   "outputs": [
    {
     "data": {
      "text/html": [
       "<div>\n",
       "<style scoped>\n",
       "    .dataframe tbody tr th:only-of-type {\n",
       "        vertical-align: middle;\n",
       "    }\n",
       "\n",
       "    .dataframe tbody tr th {\n",
       "        vertical-align: top;\n",
       "    }\n",
       "\n",
       "    .dataframe thead th {\n",
       "        text-align: right;\n",
       "    }\n",
       "</style>\n",
       "<table border=\"1\" class=\"dataframe\">\n",
       "  <thead>\n",
       "    <tr style=\"text-align: right;\">\n",
       "      <th></th>\n",
       "      <th>patient_id</th>\n",
       "      <th>tissue_id</th>\n",
       "      <th>subset_1</th>\n",
       "    </tr>\n",
       "    <tr>\n",
       "      <th>filename</th>\n",
       "      <th></th>\n",
       "      <th></th>\n",
       "      <th></th>\n",
       "    </tr>\n",
       "  </thead>\n",
       "  <tbody>\n",
       "    <tr>\n",
       "      <th>D233_1</th>\n",
       "      <td>D233</td>\n",
       "      <td>Thymus</td>\n",
       "      <td>Naive</td>\n",
       "    </tr>\n",
       "    <tr>\n",
       "      <th>D233_2</th>\n",
       "      <td>D233</td>\n",
       "      <td>Spleen</td>\n",
       "      <td>Naive</td>\n",
       "    </tr>\n",
       "    <tr>\n",
       "      <th>D233_3</th>\n",
       "      <td>D233</td>\n",
       "      <td>BM</td>\n",
       "      <td>Naive</td>\n",
       "    </tr>\n",
       "    <tr>\n",
       "      <th>D233_4</th>\n",
       "      <td>D233</td>\n",
       "      <td>Bld</td>\n",
       "      <td>Naive</td>\n",
       "    </tr>\n",
       "    <tr>\n",
       "      <th>D233_5</th>\n",
       "      <td>D233</td>\n",
       "      <td>Thymus</td>\n",
       "      <td>Memory</td>\n",
       "    </tr>\n",
       "  </tbody>\n",
       "</table>\n",
       "</div>"
      ],
      "text/plain": [
       "         patient_id tissue_id subset_1\n",
       "filename                              \n",
       "D233_1         D233    Thymus    Naive\n",
       "D233_2         D233    Spleen    Naive\n",
       "D233_3         D233        BM    Naive\n",
       "D233_4         D233       Bld    Naive\n",
       "D233_5         D233    Thymus   Memory"
      ]
     },
     "execution_count": 4,
     "metadata": {},
     "output_type": "execute_result"
    }
   ],
   "source": [
    "metadata=pd.read_csv('../sample_input_files/metadata_demo.csv',index_col='filename')\n",
    "metadata.head()"
   ]
  },
  {
   "cell_type": "code",
   "execution_count": 5,
   "metadata": {},
   "outputs": [],
   "source": [
    "merged_df=clonality.join(metadata)"
   ]
  },
  {
   "cell_type": "code",
   "execution_count": 6,
   "metadata": {},
   "outputs": [],
   "source": [
    "plot_df=merged_df[merged_df['patient_id']=='D233']"
   ]
  },
  {
   "cell_type": "code",
   "execution_count": 7,
   "metadata": {},
   "outputs": [
    {
     "data": {
      "text/plain": [
       "<matplotlib.axes._subplots.AxesSubplot at 0x109e02ac8>"
      ]
     },
     "execution_count": 7,
     "metadata": {},
     "output_type": "execute_result"
    },
    {
     "data": {
      "image/png": "[encoded data removed]",
      "text/plain": [
       "<Figure size 432x288 with 1 Axes>"
      ]
     },
     "metadata": {},
     "output_type": "display_data"
    }
   ],
   "source": [
    "sns.barplot(x=plot_df.index,y=plot_df['Clonality'])"
   ]
  },
  {
   "cell_type": "code",
   "execution_count": null,
   "metadata": {},
   "outputs": [],
   "source": []
  }
 ],
 "metadata": {
  "kernelspec": {
   "display_name": "Python 3",
   "language": "python",
   "name": "python3"
  },
  "language_info": {
   "codemirror_mode": {
    "name": "ipython",
    "version": 3
   },
   "file_extension": ".py",
   "mimetype": "text/x-python",
   "name": "python",
   "nbconvert_exporter": "python",
   "pygments_lexer": "ipython3",
   "version": "3.6.4"
  }
 },
 "nbformat": 4,
 "nbformat_minor": 2
}
