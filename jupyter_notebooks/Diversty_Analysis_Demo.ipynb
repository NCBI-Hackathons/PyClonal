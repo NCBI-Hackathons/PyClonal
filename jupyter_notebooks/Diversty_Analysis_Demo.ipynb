{
 "cells": [
  {
   "cell_type": "markdown",
   "metadata": {},
   "source": [
    "## Quick Start Demo -- Diversity Analysis\n",
    "### Load the required pacakges for this notebook ! \n",
    "None of this code needs to be changed. All places where changes are needed are indicated as Steps throughout this notebook."
   ]
  },
  {
   "cell_type": "markdown",
   "metadata": {},
   "source": [
    "# Step 1 : Change file path to input your data"
   ]
  },
  {
   "cell_type": "code",
   "execution_count": 1,
   "metadata": {},
   "outputs": [],
   "source": [
    "%%capture\n",
    "%matplotlib inline\n",
    "\n",
    "import itertools\n",
    "import os\n",
    "import numpy as np\n",
    "import pandas as pd\n",
    "from scipy.spatial.distance import cosine, jaccard\n",
    "import seaborn as sns\n",
    "from pyclonal.io import combineFiles\n",
    "\n",
    "from IPython.html.widgets import interact\n",
    "\n",
    "try:\n",
    "    import pyclonal\n",
    "except ImportError:\n",
    "    pyclonal_path = os.path.abspath(os.path.join('..'))\n",
    "    if pyclonal_path not in sys.path:\n",
    "        sys.path.append(pyclonal_path)\n",
    "from pyclonal.utils import shannon_entropy,calc_clonality"
   ]
  },
  {
   "cell_type": "markdown",
   "metadata": {},
   "source": [
    "# Step 1 : Change file path to input your data"
   ]
  },
  {
   "cell_type": "code",
   "execution_count": null,
   "metadata": {},
   "outputs": [],
   "source": [
    "#combine input files\n",
    "directory = \"../sample_input_files/\"\n",
    "pattern = \"D*.changeo_small_demo.tsv\"\n",
    "\n",
    "df, seq_df = combineFiles(directory,pattern)"
   ]
  },
  {
   "cell_type": "markdown",
   "metadata": {},
   "source": [
    "# Calculate Clonality"
   ]
  },
  {
   "cell_type": "code",
   "execution_count": null,
   "metadata": {},
   "outputs": [],
   "source": [
    "clonality=calc_clonality(df)"
   ]
  },
  {
   "cell_type": "markdown",
   "metadata": {},
   "source": [
    "# Step 2 : Change file path to input your metadata that described your samples"
   ]
  },
  {
   "cell_type": "code",
   "execution_count": null,
   "metadata": {},
   "outputs": [],
   "source": [
    "metadata=pd.read_csv('../sample_input_files/metadata_demo.csv',index_col='filename')\n",
    "metadata.head()"
   ]
  },
  {
   "cell_type": "code",
   "execution_count": null,
   "metadata": {},
   "outputs": [],
   "source": [
    "merged_df=clonality.join(metadata)"
   ]
  },
  {
   "cell_type": "code",
   "execution_count": null,
   "metadata": {},
   "outputs": [],
   "source": [
    "plot_df=merged_df[merged_df['patient_id']=='D233']"
   ]
  },
  {
   "cell_type": "code",
   "execution_count": null,
   "metadata": {},
   "outputs": [],
   "source": [
    "sns.barplot(x=plot_df.index,y=plot_df['Clonality'])"
   ]
  }
 ],
 "metadata": {
  "kernelspec": {
   "display_name": "Python 3",
   "language": "python",
   "name": "python3"
  },
  "language_info": {
   "codemirror_mode": {
    "name": "ipython",
    "version": 3
   },
   "file_extension": ".py",
   "mimetype": "text/x-python",
   "name": "python",
   "nbconvert_exporter": "python",
   "pygments_lexer": "ipython3",
   "version": "3.5.5"
  }
 },
 "nbformat": 4,
 "nbformat_minor": 2
}
